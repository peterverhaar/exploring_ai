{
  "cells": [
    {
      "cell_type": "markdown",
      "metadata": {
        "id": "view-in-github",
        "colab_type": "text"
      },
      "source": [
        "<a href=\"https://colab.research.google.com/github/peterverhaar/exploring_ai/blob/main/A_RAG_example_using_HF_and_LangChain_v3.ipynb\" target=\"_parent\"><img src=\"https://colab.research.google.com/assets/colab-badge.svg\" alt=\"Open In Colab\"/></a>"
      ]
    },
    {
      "cell_type": "markdown",
      "metadata": {
        "id": "o-jR2SNf3tfe"
      },
      "source": [
        "# **Building a simple Retrieval-Augmented Generation (RAG) pipeline**"
      ]
    },
    {
      "cell_type": "code",
      "execution_count": 1,
      "metadata": {
        "colab": {
          "base_uri": "https://localhost:8080/"
        },
        "collapsed": true,
        "id": "Dz2jEqrzuLnV",
        "outputId": "7d1e4346-c7b0-4342-e4b6-066be6c7b6f1"
      },
      "outputs": [
        {
          "output_type": "stream",
          "name": "stdout",
          "text": [
            "Requirement already satisfied: transformers in /usr/local/lib/python3.10/dist-packages (4.41.2)\n",
            "Requirement already satisfied: filelock in /usr/local/lib/python3.10/dist-packages (from transformers) (3.15.1)\n",
            "Requirement already satisfied: huggingface-hub<1.0,>=0.23.0 in /usr/local/lib/python3.10/dist-packages (from transformers) (0.23.4)\n",
            "Requirement already satisfied: numpy>=1.17 in /usr/local/lib/python3.10/dist-packages (from transformers) (1.25.2)\n",
            "Requirement already satisfied: packaging>=20.0 in /usr/local/lib/python3.10/dist-packages (from transformers) (24.1)\n",
            "Requirement already satisfied: pyyaml>=5.1 in /usr/local/lib/python3.10/dist-packages (from transformers) (6.0.1)\n",
            "Requirement already satisfied: regex!=2019.12.17 in /usr/local/lib/python3.10/dist-packages (from transformers) (2024.5.15)\n",
            "Requirement already satisfied: requests in /usr/local/lib/python3.10/dist-packages (from transformers) (2.31.0)\n",
            "Requirement already satisfied: tokenizers<0.20,>=0.19 in /usr/local/lib/python3.10/dist-packages (from transformers) (0.19.1)\n",
            "Requirement already satisfied: safetensors>=0.4.1 in /usr/local/lib/python3.10/dist-packages (from transformers) (0.4.3)\n",
            "Requirement already satisfied: tqdm>=4.27 in /usr/local/lib/python3.10/dist-packages (from transformers) (4.66.4)\n",
            "Requirement already satisfied: fsspec>=2023.5.0 in /usr/local/lib/python3.10/dist-packages (from huggingface-hub<1.0,>=0.23.0->transformers) (2023.6.0)\n",
            "Requirement already satisfied: typing-extensions>=3.7.4.3 in /usr/local/lib/python3.10/dist-packages (from huggingface-hub<1.0,>=0.23.0->transformers) (4.12.2)\n",
            "Requirement already satisfied: charset-normalizer<4,>=2 in /usr/local/lib/python3.10/dist-packages (from requests->transformers) (3.3.2)\n",
            "Requirement already satisfied: idna<4,>=2.5 in /usr/local/lib/python3.10/dist-packages (from requests->transformers) (3.7)\n",
            "Requirement already satisfied: urllib3<3,>=1.21.1 in /usr/local/lib/python3.10/dist-packages (from requests->transformers) (2.0.7)\n",
            "Requirement already satisfied: certifi>=2017.4.17 in /usr/local/lib/python3.10/dist-packages (from requests->transformers) (2024.6.2)\n",
            "Requirement already satisfied: chromadb in /usr/local/lib/python3.10/dist-packages (0.5.3)\n",
            "Requirement already satisfied: build>=1.0.3 in /usr/local/lib/python3.10/dist-packages (from chromadb) (1.2.1)\n",
            "Requirement already satisfied: requests>=2.28 in /usr/local/lib/python3.10/dist-packages (from chromadb) (2.31.0)\n",
            "Requirement already satisfied: pydantic>=1.9 in /usr/local/lib/python3.10/dist-packages (from chromadb) (2.7.4)\n",
            "Requirement already satisfied: chroma-hnswlib==0.7.3 in /usr/local/lib/python3.10/dist-packages (from chromadb) (0.7.3)\n",
            "Requirement already satisfied: fastapi>=0.95.2 in /usr/local/lib/python3.10/dist-packages (from chromadb) (0.111.0)\n",
            "Requirement already satisfied: uvicorn[standard]>=0.18.3 in /usr/local/lib/python3.10/dist-packages (from chromadb) (0.30.1)\n",
            "Requirement already satisfied: numpy<2.0.0,>=1.22.5 in /usr/local/lib/python3.10/dist-packages (from chromadb) (1.25.2)\n",
            "Requirement already satisfied: posthog>=2.4.0 in /usr/local/lib/python3.10/dist-packages (from chromadb) (3.5.0)\n",
            "Requirement already satisfied: typing-extensions>=4.5.0 in /usr/local/lib/python3.10/dist-packages (from chromadb) (4.12.2)\n",
            "Requirement already satisfied: onnxruntime>=1.14.1 in /usr/local/lib/python3.10/dist-packages (from chromadb) (1.18.0)\n",
            "Requirement already satisfied: opentelemetry-api>=1.2.0 in /usr/local/lib/python3.10/dist-packages (from chromadb) (1.25.0)\n",
            "Requirement already satisfied: opentelemetry-exporter-otlp-proto-grpc>=1.2.0 in /usr/local/lib/python3.10/dist-packages (from chromadb) (1.25.0)\n",
            "Requirement already satisfied: opentelemetry-instrumentation-fastapi>=0.41b0 in /usr/local/lib/python3.10/dist-packages (from chromadb) (0.46b0)\n",
            "Requirement already satisfied: opentelemetry-sdk>=1.2.0 in /usr/local/lib/python3.10/dist-packages (from chromadb) (1.25.0)\n",
            "Requirement already satisfied: tokenizers>=0.13.2 in /usr/local/lib/python3.10/dist-packages (from chromadb) (0.19.1)\n",
            "Requirement already satisfied: pypika>=0.48.9 in /usr/local/lib/python3.10/dist-packages (from chromadb) (0.48.9)\n",
            "Requirement already satisfied: tqdm>=4.65.0 in /usr/local/lib/python3.10/dist-packages (from chromadb) (4.66.4)\n",
            "Requirement already satisfied: overrides>=7.3.1 in /usr/local/lib/python3.10/dist-packages (from chromadb) (7.7.0)\n",
            "Requirement already satisfied: importlib-resources in /usr/local/lib/python3.10/dist-packages (from chromadb) (6.4.0)\n",
            "Requirement already satisfied: grpcio>=1.58.0 in /usr/local/lib/python3.10/dist-packages (from chromadb) (1.64.1)\n",
            "Requirement already satisfied: bcrypt>=4.0.1 in /usr/local/lib/python3.10/dist-packages (from chromadb) (4.1.3)\n",
            "Requirement already satisfied: typer>=0.9.0 in /usr/local/lib/python3.10/dist-packages (from chromadb) (0.12.3)\n",
            "Requirement already satisfied: kubernetes>=28.1.0 in /usr/local/lib/python3.10/dist-packages (from chromadb) (30.1.0)\n",
            "Requirement already satisfied: tenacity>=8.2.3 in /usr/local/lib/python3.10/dist-packages (from chromadb) (8.4.1)\n",
            "Requirement already satisfied: PyYAML>=6.0.0 in /usr/local/lib/python3.10/dist-packages (from chromadb) (6.0.1)\n",
            "Requirement already satisfied: mmh3>=4.0.1 in /usr/local/lib/python3.10/dist-packages (from chromadb) (4.1.0)\n",
            "Requirement already satisfied: orjson>=3.9.12 in /usr/local/lib/python3.10/dist-packages (from chromadb) (3.10.5)\n",
            "Requirement already satisfied: httpx>=0.27.0 in /usr/local/lib/python3.10/dist-packages (from chromadb) (0.27.0)\n",
            "Requirement already satisfied: packaging>=19.1 in /usr/local/lib/python3.10/dist-packages (from build>=1.0.3->chromadb) (24.1)\n",
            "Requirement already satisfied: pyproject_hooks in /usr/local/lib/python3.10/dist-packages (from build>=1.0.3->chromadb) (1.1.0)\n",
            "Requirement already satisfied: tomli>=1.1.0 in /usr/local/lib/python3.10/dist-packages (from build>=1.0.3->chromadb) (2.0.1)\n",
            "Requirement already satisfied: starlette<0.38.0,>=0.37.2 in /usr/local/lib/python3.10/dist-packages (from fastapi>=0.95.2->chromadb) (0.37.2)\n",
            "Requirement already satisfied: fastapi-cli>=0.0.2 in /usr/local/lib/python3.10/dist-packages (from fastapi>=0.95.2->chromadb) (0.0.4)\n",
            "Requirement already satisfied: jinja2>=2.11.2 in /usr/local/lib/python3.10/dist-packages (from fastapi>=0.95.2->chromadb) (3.1.4)\n",
            "Requirement already satisfied: python-multipart>=0.0.7 in /usr/local/lib/python3.10/dist-packages (from fastapi>=0.95.2->chromadb) (0.0.9)\n",
            "Requirement already satisfied: ujson!=4.0.2,!=4.1.0,!=4.2.0,!=4.3.0,!=5.0.0,!=5.1.0,>=4.0.1 in /usr/local/lib/python3.10/dist-packages (from fastapi>=0.95.2->chromadb) (5.10.0)\n",
            "Requirement already satisfied: email_validator>=2.0.0 in /usr/local/lib/python3.10/dist-packages (from fastapi>=0.95.2->chromadb) (2.2.0)\n",
            "Requirement already satisfied: anyio in /usr/local/lib/python3.10/dist-packages (from httpx>=0.27.0->chromadb) (3.7.1)\n",
            "Requirement already satisfied: certifi in /usr/local/lib/python3.10/dist-packages (from httpx>=0.27.0->chromadb) (2024.6.2)\n",
            "Requirement already satisfied: httpcore==1.* in /usr/local/lib/python3.10/dist-packages (from httpx>=0.27.0->chromadb) (1.0.5)\n",
            "Requirement already satisfied: idna in /usr/local/lib/python3.10/dist-packages (from httpx>=0.27.0->chromadb) (3.7)\n",
            "Requirement already satisfied: sniffio in /usr/local/lib/python3.10/dist-packages (from httpx>=0.27.0->chromadb) (1.3.1)\n",
            "Requirement already satisfied: h11<0.15,>=0.13 in /usr/local/lib/python3.10/dist-packages (from httpcore==1.*->httpx>=0.27.0->chromadb) (0.14.0)\n",
            "Requirement already satisfied: six>=1.9.0 in /usr/local/lib/python3.10/dist-packages (from kubernetes>=28.1.0->chromadb) (1.16.0)\n",
            "Requirement already satisfied: python-dateutil>=2.5.3 in /usr/local/lib/python3.10/dist-packages (from kubernetes>=28.1.0->chromadb) (2.8.2)\n",
            "Requirement already satisfied: google-auth>=1.0.1 in /usr/local/lib/python3.10/dist-packages (from kubernetes>=28.1.0->chromadb) (2.27.0)\n",
            "Requirement already satisfied: websocket-client!=0.40.0,!=0.41.*,!=0.42.*,>=0.32.0 in /usr/local/lib/python3.10/dist-packages (from kubernetes>=28.1.0->chromadb) (1.8.0)\n",
            "Requirement already satisfied: requests-oauthlib in /usr/local/lib/python3.10/dist-packages (from kubernetes>=28.1.0->chromadb) (1.3.1)\n",
            "Requirement already satisfied: oauthlib>=3.2.2 in /usr/local/lib/python3.10/dist-packages (from kubernetes>=28.1.0->chromadb) (3.2.2)\n",
            "Requirement already satisfied: urllib3>=1.24.2 in /usr/local/lib/python3.10/dist-packages (from kubernetes>=28.1.0->chromadb) (2.0.7)\n",
            "Requirement already satisfied: coloredlogs in /usr/local/lib/python3.10/dist-packages (from onnxruntime>=1.14.1->chromadb) (15.0.1)\n",
            "Requirement already satisfied: flatbuffers in /usr/local/lib/python3.10/dist-packages (from onnxruntime>=1.14.1->chromadb) (24.3.25)\n",
            "Requirement already satisfied: protobuf in /usr/local/lib/python3.10/dist-packages (from onnxruntime>=1.14.1->chromadb) (3.20.3)\n",
            "Requirement already satisfied: sympy in /usr/local/lib/python3.10/dist-packages (from onnxruntime>=1.14.1->chromadb) (1.12.1)\n",
            "Requirement already satisfied: deprecated>=1.2.6 in /usr/local/lib/python3.10/dist-packages (from opentelemetry-api>=1.2.0->chromadb) (1.2.14)\n",
            "Requirement already satisfied: importlib-metadata<=7.1,>=6.0 in /usr/local/lib/python3.10/dist-packages (from opentelemetry-api>=1.2.0->chromadb) (7.1.0)\n",
            "Requirement already satisfied: googleapis-common-protos~=1.52 in /usr/local/lib/python3.10/dist-packages (from opentelemetry-exporter-otlp-proto-grpc>=1.2.0->chromadb) (1.63.1)\n",
            "Requirement already satisfied: opentelemetry-exporter-otlp-proto-common==1.25.0 in /usr/local/lib/python3.10/dist-packages (from opentelemetry-exporter-otlp-proto-grpc>=1.2.0->chromadb) (1.25.0)\n",
            "Requirement already satisfied: opentelemetry-proto==1.25.0 in /usr/local/lib/python3.10/dist-packages (from opentelemetry-exporter-otlp-proto-grpc>=1.2.0->chromadb) (1.25.0)\n",
            "Requirement already satisfied: opentelemetry-instrumentation-asgi==0.46b0 in /usr/local/lib/python3.10/dist-packages (from opentelemetry-instrumentation-fastapi>=0.41b0->chromadb) (0.46b0)\n",
            "Requirement already satisfied: opentelemetry-instrumentation==0.46b0 in /usr/local/lib/python3.10/dist-packages (from opentelemetry-instrumentation-fastapi>=0.41b0->chromadb) (0.46b0)\n",
            "Requirement already satisfied: opentelemetry-semantic-conventions==0.46b0 in /usr/local/lib/python3.10/dist-packages (from opentelemetry-instrumentation-fastapi>=0.41b0->chromadb) (0.46b0)\n",
            "Requirement already satisfied: opentelemetry-util-http==0.46b0 in /usr/local/lib/python3.10/dist-packages (from opentelemetry-instrumentation-fastapi>=0.41b0->chromadb) (0.46b0)\n",
            "Requirement already satisfied: setuptools>=16.0 in /usr/local/lib/python3.10/dist-packages (from opentelemetry-instrumentation==0.46b0->opentelemetry-instrumentation-fastapi>=0.41b0->chromadb) (67.7.2)\n",
            "Requirement already satisfied: wrapt<2.0.0,>=1.0.0 in /usr/local/lib/python3.10/dist-packages (from opentelemetry-instrumentation==0.46b0->opentelemetry-instrumentation-fastapi>=0.41b0->chromadb) (1.14.1)\n",
            "Requirement already satisfied: asgiref~=3.0 in /usr/local/lib/python3.10/dist-packages (from opentelemetry-instrumentation-asgi==0.46b0->opentelemetry-instrumentation-fastapi>=0.41b0->chromadb) (3.8.1)\n",
            "Requirement already satisfied: monotonic>=1.5 in /usr/local/lib/python3.10/dist-packages (from posthog>=2.4.0->chromadb) (1.6)\n",
            "Requirement already satisfied: backoff>=1.10.0 in /usr/local/lib/python3.10/dist-packages (from posthog>=2.4.0->chromadb) (2.2.1)\n",
            "Requirement already satisfied: annotated-types>=0.4.0 in /usr/local/lib/python3.10/dist-packages (from pydantic>=1.9->chromadb) (0.7.0)\n",
            "Requirement already satisfied: pydantic-core==2.18.4 in /usr/local/lib/python3.10/dist-packages (from pydantic>=1.9->chromadb) (2.18.4)\n",
            "Requirement already satisfied: charset-normalizer<4,>=2 in /usr/local/lib/python3.10/dist-packages (from requests>=2.28->chromadb) (3.3.2)\n",
            "Requirement already satisfied: huggingface-hub<1.0,>=0.16.4 in /usr/local/lib/python3.10/dist-packages (from tokenizers>=0.13.2->chromadb) (0.23.4)\n",
            "Requirement already satisfied: click>=8.0.0 in /usr/local/lib/python3.10/dist-packages (from typer>=0.9.0->chromadb) (8.1.7)\n",
            "Requirement already satisfied: shellingham>=1.3.0 in /usr/local/lib/python3.10/dist-packages (from typer>=0.9.0->chromadb) (1.5.4)\n",
            "Requirement already satisfied: rich>=10.11.0 in /usr/local/lib/python3.10/dist-packages (from typer>=0.9.0->chromadb) (13.7.1)\n",
            "Requirement already satisfied: httptools>=0.5.0 in /usr/local/lib/python3.10/dist-packages (from uvicorn[standard]>=0.18.3->chromadb) (0.6.1)\n",
            "Requirement already satisfied: python-dotenv>=0.13 in /usr/local/lib/python3.10/dist-packages (from uvicorn[standard]>=0.18.3->chromadb) (1.0.1)\n",
            "Requirement already satisfied: uvloop!=0.15.0,!=0.15.1,>=0.14.0 in /usr/local/lib/python3.10/dist-packages (from uvicorn[standard]>=0.18.3->chromadb) (0.19.0)\n",
            "Requirement already satisfied: watchfiles>=0.13 in /usr/local/lib/python3.10/dist-packages (from uvicorn[standard]>=0.18.3->chromadb) (0.22.0)\n",
            "Requirement already satisfied: websockets>=10.4 in /usr/local/lib/python3.10/dist-packages (from uvicorn[standard]>=0.18.3->chromadb) (12.0)\n",
            "Requirement already satisfied: dnspython>=2.0.0 in /usr/local/lib/python3.10/dist-packages (from email_validator>=2.0.0->fastapi>=0.95.2->chromadb) (2.6.1)\n",
            "Requirement already satisfied: cachetools<6.0,>=2.0.0 in /usr/local/lib/python3.10/dist-packages (from google-auth>=1.0.1->kubernetes>=28.1.0->chromadb) (5.3.3)\n",
            "Requirement already satisfied: pyasn1-modules>=0.2.1 in /usr/local/lib/python3.10/dist-packages (from google-auth>=1.0.1->kubernetes>=28.1.0->chromadb) (0.4.0)\n",
            "Requirement already satisfied: rsa<5,>=3.1.4 in /usr/local/lib/python3.10/dist-packages (from google-auth>=1.0.1->kubernetes>=28.1.0->chromadb) (4.9)\n",
            "Requirement already satisfied: filelock in /usr/local/lib/python3.10/dist-packages (from huggingface-hub<1.0,>=0.16.4->tokenizers>=0.13.2->chromadb) (3.15.1)\n",
            "Requirement already satisfied: fsspec>=2023.5.0 in /usr/local/lib/python3.10/dist-packages (from huggingface-hub<1.0,>=0.16.4->tokenizers>=0.13.2->chromadb) (2023.6.0)\n",
            "Requirement already satisfied: zipp>=0.5 in /usr/local/lib/python3.10/dist-packages (from importlib-metadata<=7.1,>=6.0->opentelemetry-api>=1.2.0->chromadb) (3.19.2)\n",
            "Requirement already satisfied: MarkupSafe>=2.0 in /usr/local/lib/python3.10/dist-packages (from jinja2>=2.11.2->fastapi>=0.95.2->chromadb) (2.1.5)\n",
            "Requirement already satisfied: markdown-it-py>=2.2.0 in /usr/local/lib/python3.10/dist-packages (from rich>=10.11.0->typer>=0.9.0->chromadb) (3.0.0)\n",
            "Requirement already satisfied: pygments<3.0.0,>=2.13.0 in /usr/local/lib/python3.10/dist-packages (from rich>=10.11.0->typer>=0.9.0->chromadb) (2.16.1)\n",
            "Requirement already satisfied: exceptiongroup in /usr/local/lib/python3.10/dist-packages (from anyio->httpx>=0.27.0->chromadb) (1.2.1)\n",
            "Requirement already satisfied: humanfriendly>=9.1 in /usr/local/lib/python3.10/dist-packages (from coloredlogs->onnxruntime>=1.14.1->chromadb) (10.0)\n",
            "Requirement already satisfied: mpmath<1.4.0,>=1.1.0 in /usr/local/lib/python3.10/dist-packages (from sympy->onnxruntime>=1.14.1->chromadb) (1.3.0)\n",
            "Requirement already satisfied: mdurl~=0.1 in /usr/local/lib/python3.10/dist-packages (from markdown-it-py>=2.2.0->rich>=10.11.0->typer>=0.9.0->chromadb) (0.1.2)\n",
            "Requirement already satisfied: pyasn1<0.7.0,>=0.4.6 in /usr/local/lib/python3.10/dist-packages (from pyasn1-modules>=0.2.1->google-auth>=1.0.1->kubernetes>=28.1.0->chromadb) (0.6.0)\n",
            "Requirement already satisfied: sentence-transformers in /usr/local/lib/python3.10/dist-packages (3.0.1)\n",
            "Requirement already satisfied: transformers<5.0.0,>=4.34.0 in /usr/local/lib/python3.10/dist-packages (from sentence-transformers) (4.41.2)\n",
            "Requirement already satisfied: tqdm in /usr/local/lib/python3.10/dist-packages (from sentence-transformers) (4.66.4)\n",
            "Requirement already satisfied: torch>=1.11.0 in /usr/local/lib/python3.10/dist-packages (from sentence-transformers) (2.3.0+cu121)\n",
            "Requirement already satisfied: numpy in /usr/local/lib/python3.10/dist-packages (from sentence-transformers) (1.25.2)\n",
            "Requirement already satisfied: scikit-learn in /usr/local/lib/python3.10/dist-packages (from sentence-transformers) (1.2.2)\n",
            "Requirement already satisfied: scipy in /usr/local/lib/python3.10/dist-packages (from sentence-transformers) (1.11.4)\n",
            "Requirement already satisfied: huggingface-hub>=0.15.1 in /usr/local/lib/python3.10/dist-packages (from sentence-transformers) (0.23.4)\n",
            "Requirement already satisfied: Pillow in /usr/local/lib/python3.10/dist-packages (from sentence-transformers) (9.4.0)\n",
            "Requirement already satisfied: filelock in /usr/local/lib/python3.10/dist-packages (from huggingface-hub>=0.15.1->sentence-transformers) (3.15.1)\n",
            "Requirement already satisfied: fsspec>=2023.5.0 in /usr/local/lib/python3.10/dist-packages (from huggingface-hub>=0.15.1->sentence-transformers) (2023.6.0)\n",
            "Requirement already satisfied: packaging>=20.9 in /usr/local/lib/python3.10/dist-packages (from huggingface-hub>=0.15.1->sentence-transformers) (24.1)\n",
            "Requirement already satisfied: pyyaml>=5.1 in /usr/local/lib/python3.10/dist-packages (from huggingface-hub>=0.15.1->sentence-transformers) (6.0.1)\n",
            "Requirement already satisfied: requests in /usr/local/lib/python3.10/dist-packages (from huggingface-hub>=0.15.1->sentence-transformers) (2.31.0)\n",
            "Requirement already satisfied: typing-extensions>=3.7.4.3 in /usr/local/lib/python3.10/dist-packages (from huggingface-hub>=0.15.1->sentence-transformers) (4.12.2)\n",
            "Requirement already satisfied: sympy in /usr/local/lib/python3.10/dist-packages (from torch>=1.11.0->sentence-transformers) (1.12.1)\n",
            "Requirement already satisfied: networkx in /usr/local/lib/python3.10/dist-packages (from torch>=1.11.0->sentence-transformers) (3.3)\n",
            "Requirement already satisfied: jinja2 in /usr/local/lib/python3.10/dist-packages (from torch>=1.11.0->sentence-transformers) (3.1.4)\n",
            "Requirement already satisfied: nvidia-cuda-nvrtc-cu12==12.1.105 in /usr/local/lib/python3.10/dist-packages (from torch>=1.11.0->sentence-transformers) (12.1.105)\n",
            "Requirement already satisfied: nvidia-cuda-runtime-cu12==12.1.105 in /usr/local/lib/python3.10/dist-packages (from torch>=1.11.0->sentence-transformers) (12.1.105)\n",
            "Requirement already satisfied: nvidia-cuda-cupti-cu12==12.1.105 in /usr/local/lib/python3.10/dist-packages (from torch>=1.11.0->sentence-transformers) (12.1.105)\n",
            "Requirement already satisfied: nvidia-cudnn-cu12==8.9.2.26 in /usr/local/lib/python3.10/dist-packages (from torch>=1.11.0->sentence-transformers) (8.9.2.26)\n",
            "Requirement already satisfied: nvidia-cublas-cu12==12.1.3.1 in /usr/local/lib/python3.10/dist-packages (from torch>=1.11.0->sentence-transformers) (12.1.3.1)\n",
            "Requirement already satisfied: nvidia-cufft-cu12==11.0.2.54 in /usr/local/lib/python3.10/dist-packages (from torch>=1.11.0->sentence-transformers) (11.0.2.54)\n",
            "Requirement already satisfied: nvidia-curand-cu12==10.3.2.106 in /usr/local/lib/python3.10/dist-packages (from torch>=1.11.0->sentence-transformers) (10.3.2.106)\n",
            "Requirement already satisfied: nvidia-cusolver-cu12==11.4.5.107 in /usr/local/lib/python3.10/dist-packages (from torch>=1.11.0->sentence-transformers) (11.4.5.107)\n",
            "Requirement already satisfied: nvidia-cusparse-cu12==12.1.0.106 in /usr/local/lib/python3.10/dist-packages (from torch>=1.11.0->sentence-transformers) (12.1.0.106)\n",
            "Requirement already satisfied: nvidia-nccl-cu12==2.20.5 in /usr/local/lib/python3.10/dist-packages (from torch>=1.11.0->sentence-transformers) (2.20.5)\n",
            "Requirement already satisfied: nvidia-nvtx-cu12==12.1.105 in /usr/local/lib/python3.10/dist-packages (from torch>=1.11.0->sentence-transformers) (12.1.105)\n",
            "Requirement already satisfied: triton==2.3.0 in /usr/local/lib/python3.10/dist-packages (from torch>=1.11.0->sentence-transformers) (2.3.0)\n",
            "Requirement already satisfied: nvidia-nvjitlink-cu12 in /usr/local/lib/python3.10/dist-packages (from nvidia-cusolver-cu12==11.4.5.107->torch>=1.11.0->sentence-transformers) (12.5.40)\n",
            "Requirement already satisfied: regex!=2019.12.17 in /usr/local/lib/python3.10/dist-packages (from transformers<5.0.0,>=4.34.0->sentence-transformers) (2024.5.15)\n",
            "Requirement already satisfied: tokenizers<0.20,>=0.19 in /usr/local/lib/python3.10/dist-packages (from transformers<5.0.0,>=4.34.0->sentence-transformers) (0.19.1)\n",
            "Requirement already satisfied: safetensors>=0.4.1 in /usr/local/lib/python3.10/dist-packages (from transformers<5.0.0,>=4.34.0->sentence-transformers) (0.4.3)\n",
            "Requirement already satisfied: joblib>=1.1.1 in /usr/local/lib/python3.10/dist-packages (from scikit-learn->sentence-transformers) (1.4.2)\n",
            "Requirement already satisfied: threadpoolctl>=2.0.0 in /usr/local/lib/python3.10/dist-packages (from scikit-learn->sentence-transformers) (3.5.0)\n",
            "Requirement already satisfied: MarkupSafe>=2.0 in /usr/local/lib/python3.10/dist-packages (from jinja2->torch>=1.11.0->sentence-transformers) (2.1.5)\n",
            "Requirement already satisfied: charset-normalizer<4,>=2 in /usr/local/lib/python3.10/dist-packages (from requests->huggingface-hub>=0.15.1->sentence-transformers) (3.3.2)\n",
            "Requirement already satisfied: idna<4,>=2.5 in /usr/local/lib/python3.10/dist-packages (from requests->huggingface-hub>=0.15.1->sentence-transformers) (3.7)\n",
            "Requirement already satisfied: urllib3<3,>=1.21.1 in /usr/local/lib/python3.10/dist-packages (from requests->huggingface-hub>=0.15.1->sentence-transformers) (2.0.7)\n",
            "Requirement already satisfied: certifi>=2017.4.17 in /usr/local/lib/python3.10/dist-packages (from requests->huggingface-hub>=0.15.1->sentence-transformers) (2024.6.2)\n",
            "Requirement already satisfied: mpmath<1.4.0,>=1.1.0 in /usr/local/lib/python3.10/dist-packages (from sympy->torch>=1.11.0->sentence-transformers) (1.3.0)\n",
            "Requirement already satisfied: langchain in /usr/local/lib/python3.10/dist-packages (0.2.5)\n",
            "Requirement already satisfied: PyYAML>=5.3 in /usr/local/lib/python3.10/dist-packages (from langchain) (6.0.1)\n",
            "Requirement already satisfied: SQLAlchemy<3,>=1.4 in /usr/local/lib/python3.10/dist-packages (from langchain) (2.0.30)\n",
            "Requirement already satisfied: aiohttp<4.0.0,>=3.8.3 in /usr/local/lib/python3.10/dist-packages (from langchain) (3.9.5)\n",
            "Requirement already satisfied: async-timeout<5.0.0,>=4.0.0 in /usr/local/lib/python3.10/dist-packages (from langchain) (4.0.3)\n",
            "Requirement already satisfied: langchain-core<0.3.0,>=0.2.7 in /usr/local/lib/python3.10/dist-packages (from langchain) (0.2.9)\n",
            "Requirement already satisfied: langchain-text-splitters<0.3.0,>=0.2.0 in /usr/local/lib/python3.10/dist-packages (from langchain) (0.2.1)\n",
            "Requirement already satisfied: langsmith<0.2.0,>=0.1.17 in /usr/local/lib/python3.10/dist-packages (from langchain) (0.1.81)\n",
            "Requirement already satisfied: numpy<2,>=1 in /usr/local/lib/python3.10/dist-packages (from langchain) (1.25.2)\n",
            "Requirement already satisfied: pydantic<3,>=1 in /usr/local/lib/python3.10/dist-packages (from langchain) (2.7.4)\n",
            "Requirement already satisfied: requests<3,>=2 in /usr/local/lib/python3.10/dist-packages (from langchain) (2.31.0)\n",
            "Requirement already satisfied: tenacity<9.0.0,>=8.1.0 in /usr/local/lib/python3.10/dist-packages (from langchain) (8.4.1)\n",
            "Requirement already satisfied: aiosignal>=1.1.2 in /usr/local/lib/python3.10/dist-packages (from aiohttp<4.0.0,>=3.8.3->langchain) (1.3.1)\n",
            "Requirement already satisfied: attrs>=17.3.0 in /usr/local/lib/python3.10/dist-packages (from aiohttp<4.0.0,>=3.8.3->langchain) (23.2.0)\n",
            "Requirement already satisfied: frozenlist>=1.1.1 in /usr/local/lib/python3.10/dist-packages (from aiohttp<4.0.0,>=3.8.3->langchain) (1.4.1)\n",
            "Requirement already satisfied: multidict<7.0,>=4.5 in /usr/local/lib/python3.10/dist-packages (from aiohttp<4.0.0,>=3.8.3->langchain) (6.0.5)\n",
            "Requirement already satisfied: yarl<2.0,>=1.0 in /usr/local/lib/python3.10/dist-packages (from aiohttp<4.0.0,>=3.8.3->langchain) (1.9.4)\n",
            "Requirement already satisfied: jsonpatch<2.0,>=1.33 in /usr/local/lib/python3.10/dist-packages (from langchain-core<0.3.0,>=0.2.7->langchain) (1.33)\n",
            "Requirement already satisfied: packaging<25,>=23.2 in /usr/local/lib/python3.10/dist-packages (from langchain-core<0.3.0,>=0.2.7->langchain) (24.1)\n",
            "Requirement already satisfied: orjson<4.0.0,>=3.9.14 in /usr/local/lib/python3.10/dist-packages (from langsmith<0.2.0,>=0.1.17->langchain) (3.10.5)\n",
            "Requirement already satisfied: annotated-types>=0.4.0 in /usr/local/lib/python3.10/dist-packages (from pydantic<3,>=1->langchain) (0.7.0)\n",
            "Requirement already satisfied: pydantic-core==2.18.4 in /usr/local/lib/python3.10/dist-packages (from pydantic<3,>=1->langchain) (2.18.4)\n",
            "Requirement already satisfied: typing-extensions>=4.6.1 in /usr/local/lib/python3.10/dist-packages (from pydantic<3,>=1->langchain) (4.12.2)\n",
            "Requirement already satisfied: charset-normalizer<4,>=2 in /usr/local/lib/python3.10/dist-packages (from requests<3,>=2->langchain) (3.3.2)\n",
            "Requirement already satisfied: idna<4,>=2.5 in /usr/local/lib/python3.10/dist-packages (from requests<3,>=2->langchain) (3.7)\n",
            "Requirement already satisfied: urllib3<3,>=1.21.1 in /usr/local/lib/python3.10/dist-packages (from requests<3,>=2->langchain) (2.0.7)\n",
            "Requirement already satisfied: certifi>=2017.4.17 in /usr/local/lib/python3.10/dist-packages (from requests<3,>=2->langchain) (2024.6.2)\n",
            "Requirement already satisfied: greenlet!=0.4.17 in /usr/local/lib/python3.10/dist-packages (from SQLAlchemy<3,>=1.4->langchain) (3.0.3)\n",
            "Requirement already satisfied: jsonpointer>=1.9 in /usr/local/lib/python3.10/dist-packages (from jsonpatch<2.0,>=1.33->langchain-core<0.3.0,>=0.2.7->langchain) (3.0.0)\n",
            "Requirement already satisfied: langchain_community in /usr/local/lib/python3.10/dist-packages (0.2.5)\n",
            "Requirement already satisfied: PyYAML>=5.3 in /usr/local/lib/python3.10/dist-packages (from langchain_community) (6.0.1)\n",
            "Requirement already satisfied: SQLAlchemy<3,>=1.4 in /usr/local/lib/python3.10/dist-packages (from langchain_community) (2.0.30)\n",
            "Requirement already satisfied: aiohttp<4.0.0,>=3.8.3 in /usr/local/lib/python3.10/dist-packages (from langchain_community) (3.9.5)\n",
            "Requirement already satisfied: dataclasses-json<0.7,>=0.5.7 in /usr/local/lib/python3.10/dist-packages (from langchain_community) (0.6.7)\n",
            "Requirement already satisfied: langchain<0.3.0,>=0.2.5 in /usr/local/lib/python3.10/dist-packages (from langchain_community) (0.2.5)\n",
            "Requirement already satisfied: langchain-core<0.3.0,>=0.2.7 in /usr/local/lib/python3.10/dist-packages (from langchain_community) (0.2.9)\n",
            "Requirement already satisfied: langsmith<0.2.0,>=0.1.0 in /usr/local/lib/python3.10/dist-packages (from langchain_community) (0.1.81)\n",
            "Requirement already satisfied: numpy<2,>=1 in /usr/local/lib/python3.10/dist-packages (from langchain_community) (1.25.2)\n",
            "Requirement already satisfied: requests<3,>=2 in /usr/local/lib/python3.10/dist-packages (from langchain_community) (2.31.0)\n",
            "Requirement already satisfied: tenacity<9.0.0,>=8.1.0 in /usr/local/lib/python3.10/dist-packages (from langchain_community) (8.4.1)\n",
            "Requirement already satisfied: aiosignal>=1.1.2 in /usr/local/lib/python3.10/dist-packages (from aiohttp<4.0.0,>=3.8.3->langchain_community) (1.3.1)\n",
            "Requirement already satisfied: attrs>=17.3.0 in /usr/local/lib/python3.10/dist-packages (from aiohttp<4.0.0,>=3.8.3->langchain_community) (23.2.0)\n",
            "Requirement already satisfied: frozenlist>=1.1.1 in /usr/local/lib/python3.10/dist-packages (from aiohttp<4.0.0,>=3.8.3->langchain_community) (1.4.1)\n",
            "Requirement already satisfied: multidict<7.0,>=4.5 in /usr/local/lib/python3.10/dist-packages (from aiohttp<4.0.0,>=3.8.3->langchain_community) (6.0.5)\n",
            "Requirement already satisfied: yarl<2.0,>=1.0 in /usr/local/lib/python3.10/dist-packages (from aiohttp<4.0.0,>=3.8.3->langchain_community) (1.9.4)\n",
            "Requirement already satisfied: async-timeout<5.0,>=4.0 in /usr/local/lib/python3.10/dist-packages (from aiohttp<4.0.0,>=3.8.3->langchain_community) (4.0.3)\n",
            "Requirement already satisfied: marshmallow<4.0.0,>=3.18.0 in /usr/local/lib/python3.10/dist-packages (from dataclasses-json<0.7,>=0.5.7->langchain_community) (3.21.3)\n",
            "Requirement already satisfied: typing-inspect<1,>=0.4.0 in /usr/local/lib/python3.10/dist-packages (from dataclasses-json<0.7,>=0.5.7->langchain_community) (0.9.0)\n",
            "Requirement already satisfied: langchain-text-splitters<0.3.0,>=0.2.0 in /usr/local/lib/python3.10/dist-packages (from langchain<0.3.0,>=0.2.5->langchain_community) (0.2.1)\n",
            "Requirement already satisfied: pydantic<3,>=1 in /usr/local/lib/python3.10/dist-packages (from langchain<0.3.0,>=0.2.5->langchain_community) (2.7.4)\n",
            "Requirement already satisfied: jsonpatch<2.0,>=1.33 in /usr/local/lib/python3.10/dist-packages (from langchain-core<0.3.0,>=0.2.7->langchain_community) (1.33)\n",
            "Requirement already satisfied: packaging<25,>=23.2 in /usr/local/lib/python3.10/dist-packages (from langchain-core<0.3.0,>=0.2.7->langchain_community) (24.1)\n",
            "Requirement already satisfied: orjson<4.0.0,>=3.9.14 in /usr/local/lib/python3.10/dist-packages (from langsmith<0.2.0,>=0.1.0->langchain_community) (3.10.5)\n",
            "Requirement already satisfied: charset-normalizer<4,>=2 in /usr/local/lib/python3.10/dist-packages (from requests<3,>=2->langchain_community) (3.3.2)\n",
            "Requirement already satisfied: idna<4,>=2.5 in /usr/local/lib/python3.10/dist-packages (from requests<3,>=2->langchain_community) (3.7)\n",
            "Requirement already satisfied: urllib3<3,>=1.21.1 in /usr/local/lib/python3.10/dist-packages (from requests<3,>=2->langchain_community) (2.0.7)\n",
            "Requirement already satisfied: certifi>=2017.4.17 in /usr/local/lib/python3.10/dist-packages (from requests<3,>=2->langchain_community) (2024.6.2)\n",
            "Requirement already satisfied: typing-extensions>=4.6.0 in /usr/local/lib/python3.10/dist-packages (from SQLAlchemy<3,>=1.4->langchain_community) (4.12.2)\n",
            "Requirement already satisfied: greenlet!=0.4.17 in /usr/local/lib/python3.10/dist-packages (from SQLAlchemy<3,>=1.4->langchain_community) (3.0.3)\n",
            "Requirement already satisfied: jsonpointer>=1.9 in /usr/local/lib/python3.10/dist-packages (from jsonpatch<2.0,>=1.33->langchain-core<0.3.0,>=0.2.7->langchain_community) (3.0.0)\n",
            "Requirement already satisfied: annotated-types>=0.4.0 in /usr/local/lib/python3.10/dist-packages (from pydantic<3,>=1->langchain<0.3.0,>=0.2.5->langchain_community) (0.7.0)\n",
            "Requirement already satisfied: pydantic-core==2.18.4 in /usr/local/lib/python3.10/dist-packages (from pydantic<3,>=1->langchain<0.3.0,>=0.2.5->langchain_community) (2.18.4)\n",
            "Requirement already satisfied: mypy-extensions>=0.3.0 in /usr/local/lib/python3.10/dist-packages (from typing-inspect<1,>=0.4.0->dataclasses-json<0.7,>=0.5.7->langchain_community) (1.0.0)\n",
            "Requirement already satisfied: PyPDF2 in /usr/local/lib/python3.10/dist-packages (3.0.1)\n",
            "Requirement already satisfied: pypdf in /usr/local/lib/python3.10/dist-packages (4.2.0)\n",
            "Requirement already satisfied: typing_extensions>=4.0 in /usr/local/lib/python3.10/dist-packages (from pypdf) (4.12.2)\n",
            "Requirement already satisfied: accelerate in /usr/local/lib/python3.10/dist-packages (0.31.0)\n",
            "Requirement already satisfied: numpy>=1.17 in /usr/local/lib/python3.10/dist-packages (from accelerate) (1.25.2)\n",
            "Requirement already satisfied: packaging>=20.0 in /usr/local/lib/python3.10/dist-packages (from accelerate) (24.1)\n",
            "Requirement already satisfied: psutil in /usr/local/lib/python3.10/dist-packages (from accelerate) (5.9.5)\n",
            "Requirement already satisfied: pyyaml in /usr/local/lib/python3.10/dist-packages (from accelerate) (6.0.1)\n",
            "Requirement already satisfied: torch>=1.10.0 in /usr/local/lib/python3.10/dist-packages (from accelerate) (2.3.0+cu121)\n",
            "Requirement already satisfied: huggingface-hub in /usr/local/lib/python3.10/dist-packages (from accelerate) (0.23.4)\n",
            "Requirement already satisfied: safetensors>=0.3.1 in /usr/local/lib/python3.10/dist-packages (from accelerate) (0.4.3)\n",
            "Requirement already satisfied: filelock in /usr/local/lib/python3.10/dist-packages (from torch>=1.10.0->accelerate) (3.15.1)\n",
            "Requirement already satisfied: typing-extensions>=4.8.0 in /usr/local/lib/python3.10/dist-packages (from torch>=1.10.0->accelerate) (4.12.2)\n",
            "Requirement already satisfied: sympy in /usr/local/lib/python3.10/dist-packages (from torch>=1.10.0->accelerate) (1.12.1)\n",
            "Requirement already satisfied: networkx in /usr/local/lib/python3.10/dist-packages (from torch>=1.10.0->accelerate) (3.3)\n",
            "Requirement already satisfied: jinja2 in /usr/local/lib/python3.10/dist-packages (from torch>=1.10.0->accelerate) (3.1.4)\n",
            "Requirement already satisfied: fsspec in /usr/local/lib/python3.10/dist-packages (from torch>=1.10.0->accelerate) (2023.6.0)\n",
            "Requirement already satisfied: nvidia-cuda-nvrtc-cu12==12.1.105 in /usr/local/lib/python3.10/dist-packages (from torch>=1.10.0->accelerate) (12.1.105)\n",
            "Requirement already satisfied: nvidia-cuda-runtime-cu12==12.1.105 in /usr/local/lib/python3.10/dist-packages (from torch>=1.10.0->accelerate) (12.1.105)\n",
            "Requirement already satisfied: nvidia-cuda-cupti-cu12==12.1.105 in /usr/local/lib/python3.10/dist-packages (from torch>=1.10.0->accelerate) (12.1.105)\n",
            "Requirement already satisfied: nvidia-cudnn-cu12==8.9.2.26 in /usr/local/lib/python3.10/dist-packages (from torch>=1.10.0->accelerate) (8.9.2.26)\n",
            "Requirement already satisfied: nvidia-cublas-cu12==12.1.3.1 in /usr/local/lib/python3.10/dist-packages (from torch>=1.10.0->accelerate) (12.1.3.1)\n",
            "Requirement already satisfied: nvidia-cufft-cu12==11.0.2.54 in /usr/local/lib/python3.10/dist-packages (from torch>=1.10.0->accelerate) (11.0.2.54)\n",
            "Requirement already satisfied: nvidia-curand-cu12==10.3.2.106 in /usr/local/lib/python3.10/dist-packages (from torch>=1.10.0->accelerate) (10.3.2.106)\n",
            "Requirement already satisfied: nvidia-cusolver-cu12==11.4.5.107 in /usr/local/lib/python3.10/dist-packages (from torch>=1.10.0->accelerate) (11.4.5.107)\n",
            "Requirement already satisfied: nvidia-cusparse-cu12==12.1.0.106 in /usr/local/lib/python3.10/dist-packages (from torch>=1.10.0->accelerate) (12.1.0.106)\n",
            "Requirement already satisfied: nvidia-nccl-cu12==2.20.5 in /usr/local/lib/python3.10/dist-packages (from torch>=1.10.0->accelerate) (2.20.5)\n",
            "Requirement already satisfied: nvidia-nvtx-cu12==12.1.105 in /usr/local/lib/python3.10/dist-packages (from torch>=1.10.0->accelerate) (12.1.105)\n",
            "Requirement already satisfied: triton==2.3.0 in /usr/local/lib/python3.10/dist-packages (from torch>=1.10.0->accelerate) (2.3.0)\n",
            "Requirement already satisfied: nvidia-nvjitlink-cu12 in /usr/local/lib/python3.10/dist-packages (from nvidia-cusolver-cu12==11.4.5.107->torch>=1.10.0->accelerate) (12.5.40)\n",
            "Requirement already satisfied: requests in /usr/local/lib/python3.10/dist-packages (from huggingface-hub->accelerate) (2.31.0)\n",
            "Requirement already satisfied: tqdm>=4.42.1 in /usr/local/lib/python3.10/dist-packages (from huggingface-hub->accelerate) (4.66.4)\n",
            "Requirement already satisfied: MarkupSafe>=2.0 in /usr/local/lib/python3.10/dist-packages (from jinja2->torch>=1.10.0->accelerate) (2.1.5)\n",
            "Requirement already satisfied: charset-normalizer<4,>=2 in /usr/local/lib/python3.10/dist-packages (from requests->huggingface-hub->accelerate) (3.3.2)\n",
            "Requirement already satisfied: idna<4,>=2.5 in /usr/local/lib/python3.10/dist-packages (from requests->huggingface-hub->accelerate) (3.7)\n",
            "Requirement already satisfied: urllib3<3,>=1.21.1 in /usr/local/lib/python3.10/dist-packages (from requests->huggingface-hub->accelerate) (2.0.7)\n",
            "Requirement already satisfied: certifi>=2017.4.17 in /usr/local/lib/python3.10/dist-packages (from requests->huggingface-hub->accelerate) (2024.6.2)\n",
            "Requirement already satisfied: mpmath<1.4.0,>=1.1.0 in /usr/local/lib/python3.10/dist-packages (from sympy->torch>=1.10.0->accelerate) (1.3.0)\n",
            "Requirement already satisfied: numpy in /usr/local/lib/python3.10/dist-packages (1.25.2)\n"
          ]
        }
      ],
      "source": [
        "!pip install transformers\n",
        "!pip install chromadb\n",
        "!pip install sentence-transformers\n",
        "!pip install langchain\n",
        "!pip install langchain_community\n",
        "!pip install PyPDF2\n",
        "!pip install pypdf\n",
        "!pip install accelerate\n",
        "!pip install numpy"
      ]
    },
    {
      "cell_type": "code",
      "execution_count": 2,
      "metadata": {
        "id": "CZgv2juI_Y1A"
      },
      "outputs": [],
      "source": [
        "import requests\n",
        "from langchain_community.document_loaders import PyPDFLoader\n",
        "from langchain.text_splitter import RecursiveCharacterTextSplitter\n",
        "from langchain.vectorstores import Chroma\n",
        "from langchain.embeddings import HuggingFaceEmbeddings\n",
        "from transformers import AutoTokenizer, AutoModel, pipeline\n",
        "from sentence_transformers import SentenceTransformer\n",
        "import torch\n"
      ]
    },
    {
      "cell_type": "code",
      "source": [
        "response = requests.get('https://barcelona-declaration.org/downloads/BarcelonaDeclaration.pdf')\n",
        "with open(\"BarcelonaDeclaration.pdf\",'wb') as out:\n",
        "  out.write(response.content)"
      ],
      "metadata": {
        "id": "npk8zUzmK53h"
      },
      "execution_count": 3,
      "outputs": []
    },
    {
      "cell_type": "markdown",
      "metadata": {
        "id": "AU3bN-mq_grS"
      },
      "source": [
        "## **Loading a PDF file**\n",
        "Assunimg the file is already uploaded in the session storage [link](https://barcelona-declaration.org/downloads/BarcelonaDeclaration.pdf)"
      ]
    },
    {
      "cell_type": "code",
      "execution_count": 4,
      "metadata": {
        "id": "iPOa4HXd_lgq"
      },
      "outputs": [],
      "source": [
        "loader_pdf = PyPDFLoader(\"BarcelonaDeclaration.pdf\")\n",
        "pages = loader_pdf.load_and_split()"
      ]
    },
    {
      "cell_type": "code",
      "source": [
        "print(f'The pdf file contains {len(pages)} pages.')"
      ],
      "metadata": {
        "colab": {
          "base_uri": "https://localhost:8080/"
        },
        "id": "UG9RlQTnLI5R",
        "outputId": "1832d179-d7e6-416e-db50-3090c1d66f81"
      },
      "execution_count": 5,
      "outputs": [
        {
          "output_type": "stream",
          "name": "stdout",
          "text": [
            "The pdf file contains 13 pages.\n"
          ]
        }
      ]
    },
    {
      "cell_type": "code",
      "source": [
        "full_text = ''\n",
        "for page in pages:\n",
        "  full_text += page.page_content + ''\n",
        "\n",
        "print(f'The full pdf contains {len(full_text)} characters.')"
      ],
      "metadata": {
        "colab": {
          "base_uri": "https://localhost:8080/"
        },
        "id": "F59gLhptm56B",
        "outputId": "a250fed9-f438-4074-d1c9-408b27d631c5"
      },
      "execution_count": 6,
      "outputs": [
        {
          "output_type": "stream",
          "name": "stdout",
          "text": [
            "The full pdf contains 17933 characters.\n"
          ]
        }
      ]
    },
    {
      "cell_type": "markdown",
      "metadata": {
        "id": "h4knQ21n_pml"
      },
      "source": [
        "## **Initialize the text splitter**\n",
        "This can be a very important task, as different splitting methods and chunk sizes can lead to different results."
      ]
    },
    {
      "cell_type": "code",
      "execution_count": 7,
      "metadata": {
        "id": "rHXC0yvDAFHn"
      },
      "outputs": [],
      "source": [
        "text_splitter = RecursiveCharacterTextSplitter(chunk_size=1024, chunk_overlap=10)\n",
        "chunks = text_splitter.split_text(full_text)"
      ]
    },
    {
      "cell_type": "markdown",
      "metadata": {
        "id": "FDKc61zfyfet"
      },
      "source": [
        "*Only if you want to see the documents distribution before and after the split, run the code below. Also, a chunk sample*"
      ]
    },
    {
      "cell_type": "code",
      "source": [
        "total_characters = 0\n",
        "for chunk in chunks:\n",
        "  total_characters += len(chunk)\n",
        "\n",
        "print(f'Average length: {round(total_characters/len(chunks),2)}')"
      ],
      "metadata": {
        "colab": {
          "base_uri": "https://localhost:8080/"
        },
        "id": "k2yJTtiqmAri",
        "outputId": "b7d94a49-3fdc-48fa-a026-833b76a54e8b"
      },
      "execution_count": 8,
      "outputs": [
        {
          "output_type": "stream",
          "name": "stdout",
          "text": [
            "Average length: 941.95\n"
          ]
        }
      ]
    },
    {
      "cell_type": "markdown",
      "metadata": {
        "id": "1HdiNB1rAIu0"
      },
      "source": [
        "## **Initialize embeddings**\n",
        "Also different embedding models may be better suited for some specific tasks\n",
        "\n",
        "*Note: an HF_TOKEN is needed"
      ]
    },
    {
      "cell_type": "code",
      "execution_count": 9,
      "metadata": {
        "colab": {
          "base_uri": "https://localhost:8080/"
        },
        "id": "li6DZvwFAKR2",
        "outputId": "9ec1736d-fe28-4a8e-e864-32dd21d03d8b"
      },
      "outputs": [
        {
          "output_type": "stream",
          "name": "stderr",
          "text": [
            "/usr/local/lib/python3.10/dist-packages/huggingface_hub/file_download.py:1132: FutureWarning: `resume_download` is deprecated and will be removed in version 1.0.0. Downloads always resume when possible. If you want to force a new download, use `force_download=True`.\n",
            "  warnings.warn(\n"
          ]
        }
      ],
      "source": [
        "\n",
        "from langchain_community.embeddings import HuggingFaceBgeEmbeddings\n",
        "\n",
        "embeddings = HuggingFaceBgeEmbeddings(\n",
        "    model_name=\"BAAI/bge-base-en-v1.5\",\n",
        "    model_kwargs={'device':'cpu'},\n",
        "    encode_kwargs={'normalize_embeddings': True}\n",
        ")"
      ]
    },
    {
      "cell_type": "markdown",
      "metadata": {
        "id": "CfIkYZKGwxxC"
      },
      "source": [
        "Optional - Dispay the embeddigs - if you wish to see asample of the embeddig"
      ]
    },
    {
      "cell_type": "code",
      "execution_count": 9,
      "metadata": {
        "id": "PkCE13-oo9w5"
      },
      "outputs": [],
      "source": []
    },
    {
      "cell_type": "code",
      "source": [
        "sample_chunk = chunks[0]\n",
        "print(sample_chunk)"
      ],
      "metadata": {
        "id": "MY3lsIhTv0BN",
        "outputId": "b040ddb8-352c-44cc-8077-d5fdf16330b0",
        "colab": {
          "base_uri": "https://localhost:8080/"
        }
      },
      "execution_count": 10,
      "outputs": [
        {
          "output_type": "stream",
          "name": "stdout",
          "text": [
            "April 16, 2024  /  DOI: https://doi.org/10.5281/zenodo.10958522Preamble\n",
            "Commitments\n",
            "Annex A :  Background and context\n",
            "Annex B :  Definitions1\n",
            "2\n",
            "4\n",
            "8INDEXVast amounts of information are being used to manage the research enterprise, from information \n",
            "about research actors and their activities to information about inputs and outputs in the research \n",
            "process and signals of the use, esteem, and societal impact of research. This information often \n",
            "plays a vital role in the distribution of resources and the evaluation of researchers and institutions. \n",
            "Research performing and research funding organizations use this information to set strategic \n",
            "priorities. The information is also indispensable for researchers and societal stakeholders to find and \n",
            "assess relevant research outputs.\n",
            "However, a large share of all research information  is locked inside proprietary infrastructures. It is \n",
            "managed by companies that are accountable primarily to their shareholders, not to the research\n"
          ]
        }
      ]
    },
    {
      "cell_type": "code",
      "execution_count": 11,
      "metadata": {
        "colab": {
          "base_uri": "https://localhost:8080/"
        },
        "id": "xORxQsj7ge_A",
        "outputId": "ad154f99-48e9-4360-c5d9-61df80ce8c66"
      },
      "outputs": [
        {
          "output_type": "stream",
          "name": "stdout",
          "text": [
            "Size of the embedding:  (768,)\n",
            "Sample embedding of a document chunk:  [ 6.50507258e-03  9.65032075e-03 -2.22585108e-02  5.31656574e-03\n",
            "  4.31291275e-02 -3.36131342e-02  3.34306099e-02  5.60918311e-03\n",
            " -4.44583409e-02 -3.26967239e-03 -5.77347688e-02 -3.76554392e-02\n",
            " -5.88920563e-02  6.84667099e-03 -3.71541791e-02  2.64626667e-02\n",
            "  6.45871088e-02  1.51348242e-03  2.09604483e-02  8.59784521e-03\n",
            " -2.92910170e-02  5.45725673e-02 -1.86856538e-02  1.45020084e-02\n",
            "  7.21657723e-02 -6.92597311e-03  8.78396723e-03 -2.16478650e-02\n",
            " -2.99356375e-02  7.72343017e-03  6.43044114e-02 -8.15685373e-03\n",
            "  3.77368368e-03  2.06993688e-02  3.78303006e-02  2.73221284e-02\n",
            " -2.40054112e-02 -6.71114074e-03  2.64531351e-03 -1.19580338e-02\n",
            " -5.05552180e-02  1.60892326e-02 -2.99837049e-02 -3.23724784e-02\n",
            " -1.71764325e-02 -3.21602710e-02 -5.28261214e-02  4.30884399e-02\n",
            " -8.53959844e-03  3.74940559e-02 -5.89923412e-02 -6.90632174e-03\n",
            " -3.18766683e-02  1.38765844e-02  2.43337676e-02  3.54007967e-02\n",
            " -7.14678876e-03 -5.27591333e-02 -4.46592979e-02 -4.59831208e-03\n",
            "  9.33612697e-03 -8.09650682e-03  3.95208783e-02  3.09938844e-02\n",
            "  4.63526174e-02 -7.90617988e-03  1.61716517e-03  2.05545854e-02\n",
            " -4.47285138e-02 -4.75324653e-02 -7.57294649e-04 -3.33850388e-03\n",
            " -2.96371076e-02 -1.94856748e-02 -2.20921542e-02 -3.44808809e-02\n",
            "  3.36626880e-02  3.34136449e-02  3.72023359e-02  5.49311116e-02\n",
            "  1.04135647e-01  1.09151471e-02 -8.25939327e-02 -2.03307997e-02\n",
            "  1.48022436e-02 -3.19670828e-04 -4.96066064e-02 -7.22861886e-02\n",
            " -2.42101476e-02  4.19917442e-02 -9.31432098e-03 -7.16405874e-03\n",
            "  3.28573436e-02 -3.77244838e-02  2.58476958e-02 -4.26635938e-03\n",
            "  1.98013559e-02 -1.93313286e-02  1.12716798e-02  2.40645520e-02\n",
            " -1.89089775e-02  2.95470469e-02 -5.87935839e-03 -2.03296766e-02\n",
            " -7.73942173e-02 -2.35768151e-03 -3.95498984e-02 -3.38544995e-02\n",
            " -5.85116893e-02  8.90146755e-03  1.51112182e-02 -1.06888330e-02\n",
            " -2.49492880e-02 -2.61652544e-02 -6.74152598e-02  6.61742985e-02\n",
            " -5.59157459e-03 -1.11507187e-02 -5.77516034e-02 -6.40716730e-03\n",
            "  3.81072350e-02  8.09180290e-02  6.37028227e-03  5.88852018e-02\n",
            " -1.13919945e-02 -2.32407562e-02 -1.75181236e-02  6.94185309e-03\n",
            " -5.69006242e-02  7.91887008e-03  1.33442590e-02  5.87345436e-02\n",
            "  8.75626039e-03  9.62680299e-03 -1.36652226e-02  6.93420600e-03\n",
            "  2.69947834e-02 -4.13539493e-03  9.34733748e-02  6.58286177e-03\n",
            "  4.33770865e-02 -8.14310461e-02 -2.47297212e-02 -3.02271508e-02\n",
            "  2.79226806e-02 -1.62164867e-02  2.94420552e-02 -2.87498999e-02\n",
            " -5.19645773e-02 -3.98514606e-02 -8.95134080e-03  1.02831721e-02\n",
            "  1.20972276e-01 -4.40884382e-03  4.25638482e-02  3.69826630e-02\n",
            "  4.29347567e-02 -4.23344085e-03  2.35862844e-02  2.77577601e-02\n",
            "  2.33725575e-03 -9.10835434e-03 -1.86451315e-03  2.60756146e-02\n",
            " -2.50317957e-02 -2.98019350e-02  1.40313795e-02 -9.94571485e-03\n",
            " -9.53132939e-03 -1.49575174e-02  2.78737489e-03 -5.08962274e-02\n",
            "  4.76866625e-02 -4.84894477e-02  6.31604791e-02  2.99239885e-02\n",
            "  3.96644361e-02  3.24354023e-02  2.65055560e-02 -9.54748318e-03\n",
            " -5.65595292e-02  4.69223596e-02 -1.32794436e-02 -1.02791516e-03\n",
            "  5.97791746e-03  5.97408158e-04  5.03988340e-02 -3.73385400e-02\n",
            " -5.63631591e-04  4.41402681e-02 -7.21576139e-02 -1.76497474e-02\n",
            "  6.86417744e-02  4.98918770e-03  6.95407987e-02 -7.45506138e-02\n",
            "  7.61512853e-03  6.69522136e-02 -1.44448914e-02  3.03632896e-02\n",
            " -2.36216225e-02 -9.11413878e-03 -1.00048073e-02 -1.46314697e-02\n",
            " -4.54118736e-02  1.18165789e-02  4.48476784e-02 -2.78514959e-02\n",
            "  6.93956111e-03  2.70054420e-03 -4.74019535e-02  4.09334451e-02\n",
            "  1.27504012e-02  1.97554706e-03  3.97739336e-02 -1.87041201e-02\n",
            "  9.93427821e-03  1.17232148e-02  1.26705822e-02 -4.89798561e-02\n",
            "  4.18944098e-02 -3.99742499e-02 -2.37061968e-03  5.99792339e-02\n",
            " -1.56270899e-02  8.13014507e-02  4.76363637e-02 -3.32902335e-02\n",
            " -3.19228619e-02  4.05368842e-02  1.91785302e-02 -3.51523496e-02\n",
            "  2.17122138e-02 -1.82774179e-02  3.84961590e-02  5.18559664e-03\n",
            " -1.25512742e-02  3.45366634e-02  3.00796591e-02 -4.35692258e-02\n",
            "  8.14516842e-03  9.95806158e-02 -5.29243872e-02  2.40246002e-02\n",
            "  1.19623421e-02  7.36446958e-03  2.16372963e-02 -3.20325494e-02\n",
            " -7.42708147e-02  2.31383331e-02 -4.99516167e-02  1.91267412e-02\n",
            "  1.20030427e-02 -3.40831392e-02  1.95992794e-02 -2.11406648e-02\n",
            "  3.52746584e-02  4.26824242e-02  7.13991672e-02  4.49080281e-02\n",
            " -8.89871549e-03  4.19402644e-02 -3.69369835e-02 -3.19203921e-02\n",
            "  3.14471824e-03 -5.90982549e-02 -3.53325047e-02 -5.42345718e-02\n",
            " -1.33049756e-03 -4.84967120e-02  3.03932801e-02 -1.18480707e-02\n",
            " -1.00285383e-02  5.26752584e-02  1.42478626e-02 -1.15319621e-02\n",
            " -1.08080613e-03  1.50529118e-02 -7.67477555e-03 -3.49641661e-03\n",
            "  3.24603692e-02  1.80612691e-03 -3.19965743e-02 -5.11693992e-02\n",
            "  3.91989190e-04 -2.63610724e-02 -2.56432164e-02 -2.35139113e-02\n",
            "  2.92987153e-02 -7.31950393e-04  4.03279848e-02  1.44612407e-02\n",
            " -1.07914805e-02  2.20988281e-02  7.10235834e-02  2.03208514e-02\n",
            " -3.31580429e-03 -1.06961862e-03  4.01472636e-02 -1.75013132e-02\n",
            " -3.21785919e-02  3.09802815e-02  5.84411807e-02 -1.21443067e-02\n",
            "  3.39185335e-02 -3.35307531e-02 -1.73181165e-02 -2.40135547e-02\n",
            " -2.36051604e-01  7.76496064e-03 -1.02234390e-02 -1.03778590e-03\n",
            "  5.33870645e-02 -2.34781690e-02  1.52863637e-02 -3.27080861e-02\n",
            " -5.37581071e-02 -1.52764432e-02  3.85302082e-02 -3.37017365e-02\n",
            "  3.86989079e-02  4.86690253e-02  8.68120976e-03  7.13897273e-02\n",
            "  3.20646614e-02 -3.95423844e-02 -2.45177653e-02 -1.71160027e-02\n",
            " -2.08254978e-02 -3.89303267e-02  3.78402695e-02  2.06393357e-02\n",
            "  5.27202412e-02  8.20065476e-03 -2.58626584e-02  3.92225869e-02\n",
            " -7.15126991e-02 -5.08706272e-02  3.37825231e-02 -5.40817752e-02\n",
            "  1.36408471e-02 -5.28970584e-02 -1.43432757e-02 -3.81147712e-02\n",
            "  6.65591955e-02  4.21910025e-02 -5.01925647e-02 -4.04301211e-02\n",
            "  2.76101287e-02 -7.18238810e-03 -3.88908759e-02 -3.06651462e-02\n",
            "  2.48451419e-02 -2.68374942e-02 -1.13591691e-03 -7.80865969e-03\n",
            " -4.90927557e-03  4.66943420e-02  2.05427012e-03 -6.01585070e-03\n",
            " -7.27600232e-02 -3.02368067e-02 -8.23072717e-02 -3.88163626e-02\n",
            "  6.66769361e-03 -1.08448640e-02 -1.85415298e-02  5.80495782e-03\n",
            " -3.12096644e-02 -4.75041345e-02 -1.89317316e-02 -1.61988405e-03\n",
            "  1.41352164e-02 -4.29037921e-02 -7.21313730e-02 -5.47746904e-02\n",
            "  1.03849676e-02  4.18856293e-02 -2.57963547e-03  1.11870924e-02\n",
            " -1.79342125e-02 -9.92006287e-02 -4.21117879e-02 -1.07947156e-01\n",
            " -4.14692191e-03 -2.26139789e-03  9.35783517e-03  3.35051422e-03\n",
            " -3.40008251e-02 -2.26400769e-03  2.94987001e-02  2.40923148e-02\n",
            " -3.13029625e-02  4.71269712e-03  2.18920093e-02 -2.95636337e-02\n",
            " -4.26746570e-02 -9.34854522e-03  1.69625576e-03 -4.16208282e-02\n",
            " -1.41617917e-02  3.69580463e-02  1.23763382e-02 -1.42028276e-02\n",
            " -3.29267345e-02 -1.26086443e-05  1.88483130e-02  2.74794437e-02\n",
            "  1.40577406e-02 -5.55718839e-02 -1.87870804e-02 -6.78880587e-02\n",
            " -5.54148518e-02  8.09573103e-03 -2.76644342e-02  1.82739627e-02\n",
            "  6.96024522e-02 -7.48763233e-03  6.63250592e-03  3.33925188e-02\n",
            "  1.44886300e-02 -4.16096523e-02 -3.24222483e-02 -2.14162003e-02\n",
            "  3.86155508e-02  2.71867067e-02 -6.45557139e-03 -7.57254055e-03\n",
            " -3.19566056e-02 -2.13280823e-02  2.24080440e-02 -5.32091111e-02\n",
            " -2.96598207e-02  4.84178960e-03  1.21728918e-02 -4.93862480e-03\n",
            "  2.24273168e-02 -2.45151035e-02  4.92044678e-03 -3.52337956e-02\n",
            " -2.20792554e-02  9.20828711e-03  4.38684877e-03 -6.29097745e-02\n",
            " -6.07755082e-03  7.47785764e-03 -3.62644084e-02 -4.46779989e-02\n",
            " -8.79452098e-03  1.35267116e-02  1.68246720e-02  8.35911464e-03\n",
            "  6.42623231e-02 -2.66671460e-03 -1.85896773e-02  2.30383612e-02\n",
            "  2.82187257e-02  3.06091178e-02  8.49728007e-03 -7.40415184e-03\n",
            " -3.36595438e-02 -9.61552281e-03 -3.19487527e-02 -2.24514096e-03\n",
            "  1.83790848e-02 -3.32192667e-02  3.28981131e-02 -5.50218783e-02\n",
            " -2.51631010e-02 -2.41801962e-02 -7.29909819e-03 -2.40295697e-02\n",
            "  5.07999249e-02  4.64478545e-02 -4.04000506e-02  1.66925360e-02\n",
            "  7.56523851e-03  9.99769103e-03 -3.97242978e-03 -5.05532473e-02\n",
            "  1.53464489e-02 -1.76366940e-02 -4.02462296e-02  1.69628095e-02\n",
            "  4.74030292e-03  5.43270968e-02 -1.95160639e-02  4.57397439e-02\n",
            "  2.21850760e-02 -2.58678012e-02 -3.20622697e-03 -4.85827867e-03\n",
            "  3.10447440e-02  1.54286679e-02  5.67262806e-02 -1.05528198e-02\n",
            "  1.21235074e-02  1.49606783e-02 -4.02750028e-03  1.01343729e-02\n",
            "  3.44423875e-02 -7.40294764e-03 -3.24914381e-02 -4.02606614e-02\n",
            " -1.57984234e-02  1.91638507e-02 -2.03327741e-02  3.94151136e-02\n",
            "  1.17177712e-02 -1.51365120e-02 -1.57481041e-02 -2.42256168e-02\n",
            "  2.06539053e-02 -2.72949343e-03 -1.85500756e-02 -1.53089389e-02\n",
            " -1.08140139e-02  6.58655260e-03 -5.26490286e-02 -2.72875074e-02\n",
            " -3.78202647e-02 -1.54741178e-03 -6.76578237e-03 -1.47384973e-02\n",
            " -3.85033414e-02 -4.25082594e-02 -4.56116833e-02 -6.41204941e-04\n",
            "  1.68728214e-02  1.84761006e-02  3.68249998e-03  1.72899682e-02\n",
            " -4.07520905e-02  1.32116033e-02  6.23998158e-02  1.09579451e-02\n",
            "  1.04335286e-02 -5.93446381e-02 -2.35194769e-02 -2.82175373e-02\n",
            "  2.01655217e-02  1.06047140e-02 -1.05409306e-02  7.46515617e-02\n",
            " -1.27229458e-02  5.01200594e-02  1.24694081e-02  3.75996195e-02\n",
            " -9.70865879e-03  2.11074725e-02 -1.76397152e-02  1.39669105e-02\n",
            " -2.34490037e-02  2.02619340e-02 -3.41470763e-02  3.27803269e-02\n",
            " -2.78767291e-03  2.79784650e-02  1.07813776e-02 -1.77596752e-02\n",
            "  1.64415482e-02  1.20902807e-02  2.89043467e-02 -3.89351770e-02\n",
            " -2.13266052e-02 -3.13393422e-03 -4.82534841e-02 -5.16955952e-05\n",
            "  3.62467505e-02 -1.26250619e-02  1.98404863e-03  8.02770536e-03\n",
            "  6.53294250e-02  4.60621640e-02 -1.83370542e-02 -1.10135777e-02\n",
            "  3.61570194e-02 -3.75181772e-02 -1.35915531e-02 -3.01403832e-02\n",
            " -7.95203354e-03 -1.48029784e-02 -1.76784284e-02 -4.03691977e-02\n",
            "  2.01534294e-02 -3.38628627e-02 -1.27228338e-03 -2.46833246e-02\n",
            " -5.71279190e-02  4.06020274e-03  1.60253178e-02 -2.14816094e-03\n",
            "  4.48778495e-02 -3.21790241e-02 -2.59895995e-03  2.49823220e-02\n",
            " -7.41055831e-02 -3.36529464e-02 -4.28397357e-02  1.69516746e-02\n",
            "  1.63426995e-02  4.58303355e-02 -3.71911079e-02  1.04740988e-02\n",
            " -3.16712912e-03  3.59837413e-02  1.05361296e-02  7.40934983e-02\n",
            " -6.53173476e-02  3.63430791e-02  1.16321202e-02  2.28220932e-02\n",
            " -3.77916475e-03  5.50532043e-02 -1.07722655e-02  4.22686717e-04\n",
            "  9.98231024e-03  2.22091209e-02 -8.15021060e-03 -5.60700186e-02\n",
            "  6.27073571e-02  1.68861225e-02 -4.78750244e-02 -4.30275425e-02\n",
            " -1.95616465e-02 -7.41206482e-02  5.03489375e-02 -1.92359127e-02\n",
            " -9.95954312e-03 -1.64856594e-02  5.25084510e-02 -7.32482737e-03\n",
            "  4.46930677e-02  8.29021484e-02  6.53135125e-03  1.37095136e-04\n",
            "  3.70911695e-02  7.24740252e-02  1.06071889e-01  6.87042996e-02\n",
            "  5.54302298e-02  2.56708078e-02 -9.60254110e-03 -1.58677585e-02\n",
            "  1.46613186e-02 -6.25327229e-02  6.41217828e-02  6.81038201e-02\n",
            " -4.58700433e-02  6.85403720e-02  3.18374746e-02  6.83930591e-02\n",
            " -4.58007865e-02 -5.21001080e-03  2.54431833e-02  4.77542728e-02\n",
            "  5.01828529e-02  5.28519154e-02  2.05580401e-03  1.94766317e-02\n",
            " -2.04404816e-02  1.70952883e-02  8.07576638e-04 -2.37832461e-02\n",
            " -8.49349517e-03  2.28584036e-02 -2.13741902e-02 -2.47885380e-02\n",
            "  1.41724572e-02  1.93134672e-03  7.96479881e-02  3.50043438e-02\n",
            " -1.30348769e-03 -1.40764518e-02 -3.99930887e-02  1.51904793e-02\n",
            "  5.77427521e-02  7.22460391e-04  4.12584394e-02 -1.47141283e-02\n",
            " -2.83001717e-02 -3.40388454e-02  1.92269925e-02 -3.30785774e-02\n",
            "  4.23531011e-02  1.80617673e-04  5.07353665e-03  1.19770942e-02\n",
            " -3.65103334e-02 -4.20475751e-02 -1.79213192e-02 -4.43736501e-02\n",
            " -3.83534133e-02 -3.05503197e-02  3.35241755e-04 -1.62295923e-02\n",
            " -7.40022585e-03 -5.19909635e-02 -7.98234716e-02 -8.14175420e-03\n",
            "  2.24260539e-02  4.89149392e-02  1.96854118e-03  4.17545028e-02\n",
            "  7.38760165e-04  2.97921989e-02  3.08249891e-02  1.07156541e-02\n",
            "  2.56629027e-02 -1.72333028e-02 -2.32881792e-02  4.43413258e-02\n",
            "  1.99357048e-02  1.61597021e-02  1.55136886e-03 -1.63792558e-02\n",
            " -6.65816218e-02 -2.10317485e-02  2.58603673e-02 -1.31154899e-02\n",
            " -7.59601220e-02  5.24138510e-02 -1.64437797e-02 -1.11408336e-02\n",
            "  6.71595708e-02 -9.64317005e-03  1.83589682e-02  5.91732375e-02\n",
            " -4.62374912e-04 -2.94419583e-02 -5.22766146e-04  4.71603759e-02\n",
            " -2.82352511e-02  4.84351516e-02  6.63920194e-02  2.59112455e-02\n",
            "  1.10155065e-02  6.97352178e-03 -1.92605238e-02 -1.50182785e-03\n",
            " -3.91148217e-02  3.55087221e-02 -6.11815937e-02 -5.30859865e-02\n",
            " -4.88214334e-03  2.14045327e-02 -2.12686993e-02 -9.47333500e-02\n",
            "  3.54350940e-03  8.87158662e-02 -7.57119572e-03 -1.16346162e-02\n",
            "  4.12565768e-02  2.50414442e-02  1.22295972e-02 -6.06767125e-02\n",
            " -2.94337682e-02  2.59358883e-02 -1.57215036e-02 -5.41856475e-02\n",
            "  7.80304149e-02 -4.81569916e-02  1.08030923e-02 -5.27703576e-02\n",
            "  1.17527163e-02  6.92679314e-03 -1.44747905e-02 -1.88234262e-03]\n"
          ]
        }
      ],
      "source": [
        "import numpy as np\n",
        "\n",
        "sample_embedding = np.array(embeddings.embed_query(sample_chunk))\n",
        "\n",
        "print(\"Size of the embedding: \", sample_embedding.shape)\n",
        "#print(\"Sample embedding of a document chunk: \", sample_embedding)"
      ]
    },
    {
      "cell_type": "markdown",
      "metadata": {
        "id": "ebAy27XSAOkp"
      },
      "source": [
        "## **Create vectorstore** - here we used Chroma database, but another can be chosen"
      ]
    },
    {
      "cell_type": "code",
      "execution_count": 12,
      "metadata": {
        "id": "8Txrm4GAAgHz"
      },
      "outputs": [],
      "source": [
        "\n",
        "vectorstore = Chroma.from_texts(chunks, embeddings)\n"
      ]
    },
    {
      "cell_type": "markdown",
      "metadata": {
        "id": "xVEBGlQjAkB_"
      },
      "source": [
        "Optionally, you can perform a simple search to test it directly at vector store (through similarity search)"
      ]
    },
    {
      "cell_type": "markdown",
      "metadata": {
        "id": "c-XO9cddApxC"
      },
      "source": [
        "Display more results"
      ]
    },
    {
      "cell_type": "code",
      "source": [
        "from google.colab import userdata\n",
        "my_secret_key = userdata.get('HF_TOKEN')\n",
        "print(my_secret_key)"
      ],
      "metadata": {
        "id": "-TXguy_b0_4Q",
        "outputId": "c4c133d3-3843-4253-a969-657cb7258bc4",
        "colab": {
          "base_uri": "https://localhost:8080/"
        }
      },
      "execution_count": 13,
      "outputs": [
        {
          "output_type": "stream",
          "name": "stdout",
          "text": [
            ""
          ]
        }
      ]
    },
    {
      "cell_type": "code",
      "source": [
        "from huggingface_hub import notebook_login\n",
        "\n",
        "notebook_login()"
      ],
      "metadata": {
        "id": "2Qadk5CW5_vF",
        "outputId": "009e5d02-7f37-4ca2-b2c1-55393378fce0",
        "colab": {
          "base_uri": "https://localhost:8080/",
          "height": 145,
          "referenced_widgets": [
            "beef0ca6cf6442bfb3e899f7a311a83a",
            "37afcf34558041098c6e723007bf5895",
            "d52c344891014519a69e9a1268b982a8",
            "948308a81166432895274d7d2cbc8a92",
            "81191c35b3ed44d6bee27872e17ddeec",
            "6d898666190f461ba2312961857f6d7e",
            "cb09c153b2114efc9b28393435f73067",
            "e1e98624b24247b389f21095187ed85a",
            "6fec9a17db7b4a2482bf550ad3fbeee3",
            "8b57ee79b3c14c37bbdebff8f9297c8d",
            "69a6abbdbdf442b8bf7691609b822051",
            "ba06fafc9abc42baa8366559cb26fc4c",
            "2eeaba6ebe374c26bd8f5f6189a45630",
            "ca6605f635974a378384d07d18e86403",
            "3ab115a93e664c0dba42215795a1b691",
            "f32ac535d9e7497bb263b753e96625d3",
            "11bc438b3bc54b5ebf2f48c7a24ba1cd",
            "3a429e938cbc42118c1c6ad1b80245b6",
            "da7e32e00ed4416a82e34ae685d6c1a7",
            "7a06b5d7847d4ecc950d6b1c92925746",
            "314246ec573040ef961abf752687f2d7",
            "ea035a8e74744b3998ca5f3545826b33",
            "733b14d6262c44d4ba7a0502c3966f74",
            "72992007d08d429c937bf11d67971075",
            "72022a088a574a9caf172d72a2c73c90",
            "d1facb935c39427485eff56415a4b6f4",
            "fa416eff246246ba8e6273e3669c243b",
            "527ed4b9e39f4fd99115d23e40b29aa8",
            "cfe564fd83b04427bdaeaa2734f9c283",
            "0023c4f74a044857a55867e1444c447c",
            "caf3d2d0a1f349ed8a252b0cc462b025",
            "e74318d58c98487cb2e8a79a4f18d19c"
          ]
        }
      },
      "execution_count": 14,
      "outputs": [
        {
          "output_type": "display_data",
          "data": {
            "text/plain": [
              "VBox(children=(HTML(value='<center> <img\\nsrc=https://huggingface.co/front/assets/huggingface_logo-noborder.sv…"
            ],
            "application/vnd.jupyter.widget-view+json": {
              "version_major": 2,
              "version_minor": 0,
              "model_id": "beef0ca6cf6442bfb3e899f7a311a83a"
            }
          },
          "metadata": {}
        }
      ]
    },
    {
      "cell_type": "markdown",
      "metadata": {
        "id": "Y-j9NksKzyv-"
      },
      "source": [
        "## **Create the HuggingFacePipeline with the specified model and device**"
      ]
    },
    {
      "cell_type": "code",
      "execution_count": 15,
      "metadata": {
        "colab": {
          "base_uri": "https://localhost:8080/",
          "height": 142,
          "referenced_widgets": [
            "512fbc1936f94c438f74c1630c2592ad",
            "c2c973bef5014fcabf24acc7a2df24a8",
            "a13a2326289349e0992ab5f7a472de24",
            "ce6c3da88a2646208e8c4a97d8b6abff",
            "f7f6dbb7bf4a4523a14b287bc0e610fc",
            "9ad0e56a75fc434ab0c566f9a7744e03",
            "5b7a0c01c9a446f08f1b24cd11c7c7f5",
            "d7b3e9cd35ed4d6ab1841e46f2d0be41",
            "9c045dc46f234462a81e3f3e63e1c090",
            "8a525f8520584ff8a98f1e870e02b0a9",
            "a7e19cc4c8f74990ac3ff0ba788b0613"
          ]
        },
        "id": "QHh5ytSssK_M",
        "outputId": "efafbeb2-6054-4a42-f5c5-cecbaba9f9a2"
      },
      "outputs": [
        {
          "output_type": "stream",
          "name": "stderr",
          "text": [
            "Special tokens have been added in the vocabulary, make sure the associated word embeddings are fine-tuned or trained.\n"
          ]
        },
        {
          "output_type": "display_data",
          "data": {
            "text/plain": [
              "Loading checkpoint shards:   0%|          | 0/4 [00:00<?, ?it/s]"
            ],
            "application/vnd.jupyter.widget-view+json": {
              "version_major": 2,
              "version_minor": 0,
              "model_id": "512fbc1936f94c438f74c1630c2592ad"
            }
          },
          "metadata": {}
        },
        {
          "output_type": "stream",
          "name": "stderr",
          "text": [
            "WARNING:root:Some parameters are on the meta device device because they were offloaded to the cpu.\n",
            "/usr/local/lib/python3.10/dist-packages/langchain_core/_api/deprecation.py:139: LangChainDeprecationWarning: The class `HuggingFacePipeline` was deprecated in LangChain 0.0.37 and will be removed in 0.3. An updated version of the class exists in the langchain-huggingface package and should be used instead. To use it run `pip install -U langchain-huggingface` and import as `from langchain_huggingface import HuggingFacePipeline`.\n",
            "  warn_deprecated(\n"
          ]
        }
      ],
      "source": [
        "from transformers import AutoTokenizer, AutoModelForCausalLM\n",
        "from langchain_community.llms.huggingface_pipeline import HuggingFacePipeline\n",
        "import torch\n",
        "\n",
        "#Select a LLM model. Note that different models can be selected, depenting on the use case\n",
        "#model_id = \"microsoft/phi-1_5\"\n",
        "#model_id= \"microsoft/Phi-3-mini-128k-instruct\"\n",
        "#model_id = \"mistralai/Mistral-7B-v0.3\"\n",
        "#model_id = \"BAAI/bge-m3\"\n",
        "#model_id = \"mistralai/Mistral-7B-v0.3\" # Access to this model must be authenticated (at HF)\n",
        "model_id = \"meta-llama/Meta-Llama-3-8B-Instruct\"\n",
        "\n",
        "#Initialize the tokenizer\n",
        "tokenizer = AutoTokenizer.from_pretrained(model_id)\n",
        "\n",
        "\n",
        "if tokenizer.pad_token_id is None:\n",
        "    tokenizer.pad_token_id = tokenizer.eos_token_id\n",
        "\n",
        "device = 0 if torch.cuda.is_available() else -1\n",
        "\n",
        "torch_dtype = torch.float16 if torch.cuda.is_available() else torch.float32\n",
        "\n",
        "#------------------------------------------------------------------------------\n",
        "# Load the model with AutoModelForCausalLM\n",
        "hf_model = AutoModelForCausalLM.from_pretrained(\n",
        "    model_id,\n",
        "    low_cpu_mem_usage=True,\n",
        "    torch_dtype=torch_dtype,\n",
        "    device_map=\"auto\"\n",
        ")\n",
        "\n",
        "#Create the HuggingFacePipeline with a positive temperature value\n",
        "hf_pipeline = pipeline(\n",
        "    \"text-generation\",\n",
        "    model=hf_model,\n",
        "    tokenizer=tokenizer,\n",
        "    temperature=0.1,  #model creativity\n",
        "    max_new_tokens=100  #Smaller number of tokens, a faster response\n",
        ")\n",
        "\n",
        "#Set the model for the LLM based on the above defined pipeline\n",
        "llm = HuggingFacePipeline(pipeline=hf_pipeline)\n",
        "\n"
      ]
    },
    {
      "cell_type": "markdown",
      "metadata": {
        "id": "xw2l4Xv07aVG"
      },
      "source": [
        "## **Convert the vector store into a retriever object**\n",
        "So, we can perform similarity searches or information retrieval based on vector embeddings"
      ]
    },
    {
      "cell_type": "code",
      "execution_count": 19,
      "metadata": {
        "id": "3m4c8D_DtYUy"
      },
      "outputs": [],
      "source": [
        "retriever = vectorstore.as_retriever()"
      ]
    },
    {
      "cell_type": "markdown",
      "metadata": {
        "id": "wRy2SR1z8Ms7"
      },
      "source": [
        "## **Definition of the RAG template**\n",
        "This template will format the context and question to create a prompt for generating responses"
      ]
    },
    {
      "cell_type": "code",
      "execution_count": 20,
      "metadata": {
        "id": "HKerjRLe8xUZ"
      },
      "outputs": [],
      "source": [
        "from langchain_core.prompts import ChatPromptTemplate\n",
        "\n",
        "rag_template = \"\"\"Use the following pieces of context to answer the question.\n",
        "If you don't know the answer, just say that you don't know, don't try to make up an answer. Provide only the answer, nothing else.\n",
        "{context}\n",
        "Question: {question}\n",
        "\"\"\"\n",
        "rag_prompt = ChatPromptTemplate.from_template(rag_template)\n"
      ]
    },
    {
      "cell_type": "markdown",
      "metadata": {
        "id": "qd3gSbhKBaqt"
      },
      "source": [
        "## **Setting up a RAG chain using LangChain components**"
      ]
    },
    {
      "cell_type": "code",
      "execution_count": 21,
      "metadata": {
        "id": "J2M3op-BtKTf"
      },
      "outputs": [],
      "source": [
        "from langchain_core.runnables import RunnablePassthrough\n",
        "from langchain_core.output_parsers import StrOutputParser\n",
        "\n",
        "rag_chain = (\n",
        "  {\"context\": retriever, \"question\": RunnablePassthrough()}\n",
        "  | rag_prompt\n",
        "  | llm\n",
        "  | StrOutputParser()\n",
        ")\n"
      ]
    },
    {
      "cell_type": "markdown",
      "metadata": {
        "id": "swUKOP0BB-XV"
      },
      "source": []
    },
    {
      "cell_type": "markdown",
      "metadata": {
        "id": "zFVGZ9fpDyzF"
      },
      "source": [
        "## **Asking a question through RAG chain**\n",
        "\n",
        "NOTE: In some cases, depending on the selected LLM, there is a need to format the generated response, i.e. remove unwanted text.\n",
        "Without GPU usage it can last a long time."
      ]
    },
    {
      "cell_type": "code",
      "source": [
        "def extract_answer(text):\n",
        "  parsed_text = text.split(\"Answer:\")[1]\n",
        "  return parsed_text\n",
        "\n",
        "def answer_question(question):\n",
        "  #Invoke the chain and print the answer\n",
        "  answer = rag_chain.invoke(question)\n",
        "  print(extract_answer(answer))"
      ],
      "metadata": {
        "id": "eNtlgpcWIx6V"
      },
      "execution_count": 22,
      "outputs": []
    },
    {
      "cell_type": "code",
      "source": [
        "question = \"Can you give a summary of the Barcelone declaration? List the main statements using bullet points.\"\n",
        "answer_question(question)"
      ],
      "metadata": {
        "id": "5p7VBFNLB7wy"
      },
      "execution_count": null,
      "outputs": []
    },
    {
      "cell_type": "code",
      "execution_count": 23,
      "metadata": {
        "colab": {
          "base_uri": "https://localhost:8080/"
        },
        "id": "rNgXgfI_tDZd",
        "outputId": "6ad32f6e-c334-4a7b-a724-f8fd2ede71b5"
      },
      "outputs": [
        {
          "output_type": "stream",
          "name": "stdout",
          "text": [
            " The Barcelona Declaration on Open Research Information is important to the scientific community because it provides a means by which a scholarly infrastructure can provide assurances to the community that it qualifies for the level of trust accorded to an open scholarly infrastructure. It also guarantees that not only those performing an assessment but also those being assessed have access to all ‘evidence’ considered in the assessment, offering the transparency and accountability that are crucial to foster responsible assessment practices.\n"
          ]
        }
      ],
      "source": [
        "question = \"Why is the Barcelona Declaration important to the scientific community?\"\n",
        "answer_question(question)"
      ]
    },
    {
      "cell_type": "code",
      "execution_count": null,
      "metadata": {
        "id": "zxGw3uX9tp2L"
      },
      "outputs": [],
      "source": [
        "question = \"What does open research mean exactly?\"\n",
        "answer_question(question)"
      ]
    },
    {
      "cell_type": "code",
      "execution_count": null,
      "metadata": {
        "id": "NnfM8YkOtvd1"
      },
      "outputs": [],
      "source": [
        "question = \"How many members does CoARA have?\"\n",
        "answer_question(question)"
      ]
    },
    {
      "cell_type": "markdown",
      "metadata": {
        "id": "IAJp2cF9t3he"
      },
      "source": [
        "Formatting the generated response, i. remove any unwanted text. For different models, different formats may be needed"
      ]
    },
    {
      "cell_type": "code",
      "source": [
        "question = \"Can you give a French translation of the main points of the Barcelona declaration?\"\n",
        "answer_question(question)"
      ],
      "metadata": {
        "id": "XGKeH4nUEmCr"
      },
      "execution_count": null,
      "outputs": []
    },
    {
      "cell_type": "code",
      "source": [
        "question = \"What are the main named entities in the Barcelona declaration? Give the anser in the form of a JSON file\"\n",
        "answer_question(question)"
      ],
      "metadata": {
        "id": "EMQ6kts1FV2f"
      },
      "execution_count": null,
      "outputs": []
    },
    {
      "cell_type": "code",
      "source": [
        "question = \"Which sentences in the Barcelona declaraion express a negative sentiment?\"\n",
        "answer_question(question)"
      ],
      "metadata": {
        "id": "DErqAIArFgJk"
      },
      "execution_count": null,
      "outputs": []
    },
    {
      "cell_type": "code",
      "source": [
        "question = \"Which sentences in the Barcelona declaration express a positive sentiment?\"\n",
        "answer_question(question)"
      ],
      "metadata": {
        "id": "8WxHCkivFnA3"
      },
      "execution_count": null,
      "outputs": []
    },
    {
      "cell_type": "code",
      "source": [
        "question = \"How does the Barcelona declaraton differ from the Berlin Open Access Declaration from 2003?\"\n",
        "answer_question(question)"
      ],
      "metadata": {
        "id": "-kBLkUsHHAVL"
      },
      "execution_count": null,
      "outputs": []
    },
    {
      "cell_type": "code",
      "source": [
        "question = \"What does the Barcelona declaration mention about Artificial Intelligence?\"\n",
        "answer_question(question)"
      ],
      "metadata": {
        "id": "MaC2ASKsJl2C"
      },
      "execution_count": null,
      "outputs": []
    },
    {
      "cell_type": "code",
      "source": [
        "question = \"What does the Barcelona declaration mention about open software?\"\n",
        "answer_question(question)"
      ],
      "metadata": {
        "id": "GvomlhvjJu1T"
      },
      "execution_count": null,
      "outputs": []
    },
    {
      "cell_type": "code",
      "source": [
        "question = \"What are the main sights in the city of Limassol? Which places should I visit?\"\n",
        "answer_question(question)"
      ],
      "metadata": {
        "id": "XJKDXFfhKETE"
      },
      "execution_count": null,
      "outputs": []
    }
  ],
  "metadata": {
    "accelerator": "GPU",
    "colab": {
      "gpuType": "T4",
      "provenance": [],
      "include_colab_link": true
    },
    "kernelspec": {
      "display_name": "Python 3",
      "name": "python3"
    },
    "language_info": {
      "name": "python"
    },
    "widgets": {
      "application/vnd.jupyter.widget-state+json": {
        "beef0ca6cf6442bfb3e899f7a311a83a": {
          "model_module": "@jupyter-widgets/controls",
          "model_name": "VBoxModel",
          "model_module_version": "1.5.0",
          "state": {
            "_dom_classes": [],
            "_model_module": "@jupyter-widgets/controls",
            "_model_module_version": "1.5.0",
            "_model_name": "VBoxModel",
            "_view_count": null,
            "_view_module": "@jupyter-widgets/controls",
            "_view_module_version": "1.5.0",
            "_view_name": "VBoxView",
            "box_style": "",
            "children": [
              "IPY_MODEL_314246ec573040ef961abf752687f2d7",
              "IPY_MODEL_ea035a8e74744b3998ca5f3545826b33",
              "IPY_MODEL_733b14d6262c44d4ba7a0502c3966f74",
              "IPY_MODEL_72992007d08d429c937bf11d67971075"
            ],
            "layout": "IPY_MODEL_cb09c153b2114efc9b28393435f73067"
          }
        },
        "37afcf34558041098c6e723007bf5895": {
          "model_module": "@jupyter-widgets/controls",
          "model_name": "HTMLModel",
          "model_module_version": "1.5.0",
          "state": {
            "_dom_classes": [],
            "_model_module": "@jupyter-widgets/controls",
            "_model_module_version": "1.5.0",
            "_model_name": "HTMLModel",
            "_view_count": null,
            "_view_module": "@jupyter-widgets/controls",
            "_view_module_version": "1.5.0",
            "_view_name": "HTMLView",
            "description": "",
            "description_tooltip": null,
            "layout": "IPY_MODEL_e1e98624b24247b389f21095187ed85a",
            "placeholder": "​",
            "style": "IPY_MODEL_6fec9a17db7b4a2482bf550ad3fbeee3",
            "value": "<center> <img\nsrc=https://huggingface.co/front/assets/huggingface_logo-noborder.svg\nalt='Hugging Face'> <br> Copy a token from <a\nhref=\"https://huggingface.co/settings/tokens\" target=\"_blank\">your Hugging Face\ntokens page</a> and paste it below. <br> Immediately click login after copying\nyour token or it might be stored in plain text in this notebook file. </center>"
          }
        },
        "d52c344891014519a69e9a1268b982a8": {
          "model_module": "@jupyter-widgets/controls",
          "model_name": "PasswordModel",
          "model_module_version": "1.5.0",
          "state": {
            "_dom_classes": [],
            "_model_module": "@jupyter-widgets/controls",
            "_model_module_version": "1.5.0",
            "_model_name": "PasswordModel",
            "_view_count": null,
            "_view_module": "@jupyter-widgets/controls",
            "_view_module_version": "1.5.0",
            "_view_name": "PasswordView",
            "continuous_update": true,
            "description": "Token:",
            "description_tooltip": null,
            "disabled": false,
            "layout": "IPY_MODEL_8b57ee79b3c14c37bbdebff8f9297c8d",
            "placeholder": "​",
            "style": "IPY_MODEL_69a6abbdbdf442b8bf7691609b822051",
            "value": ""
          }
        },
        "948308a81166432895274d7d2cbc8a92": {
          "model_module": "@jupyter-widgets/controls",
          "model_name": "CheckboxModel",
          "model_module_version": "1.5.0",
          "state": {
            "_dom_classes": [],
            "_model_module": "@jupyter-widgets/controls",
            "_model_module_version": "1.5.0",
            "_model_name": "CheckboxModel",
            "_view_count": null,
            "_view_module": "@jupyter-widgets/controls",
            "_view_module_version": "1.5.0",
            "_view_name": "CheckboxView",
            "description": "Add token as git credential?",
            "description_tooltip": null,
            "disabled": false,
            "indent": true,
            "layout": "IPY_MODEL_ba06fafc9abc42baa8366559cb26fc4c",
            "style": "IPY_MODEL_2eeaba6ebe374c26bd8f5f6189a45630",
            "value": true
          }
        },
        "81191c35b3ed44d6bee27872e17ddeec": {
          "model_module": "@jupyter-widgets/controls",
          "model_name": "ButtonModel",
          "model_module_version": "1.5.0",
          "state": {
            "_dom_classes": [],
            "_model_module": "@jupyter-widgets/controls",
            "_model_module_version": "1.5.0",
            "_model_name": "ButtonModel",
            "_view_count": null,
            "_view_module": "@jupyter-widgets/controls",
            "_view_module_version": "1.5.0",
            "_view_name": "ButtonView",
            "button_style": "",
            "description": "Login",
            "disabled": false,
            "icon": "",
            "layout": "IPY_MODEL_ca6605f635974a378384d07d18e86403",
            "style": "IPY_MODEL_3ab115a93e664c0dba42215795a1b691",
            "tooltip": ""
          }
        },
        "6d898666190f461ba2312961857f6d7e": {
          "model_module": "@jupyter-widgets/controls",
          "model_name": "HTMLModel",
          "model_module_version": "1.5.0",
          "state": {
            "_dom_classes": [],
            "_model_module": "@jupyter-widgets/controls",
            "_model_module_version": "1.5.0",
            "_model_name": "HTMLModel",
            "_view_count": null,
            "_view_module": "@jupyter-widgets/controls",
            "_view_module_version": "1.5.0",
            "_view_name": "HTMLView",
            "description": "",
            "description_tooltip": null,
            "layout": "IPY_MODEL_f32ac535d9e7497bb263b753e96625d3",
            "placeholder": "​",
            "style": "IPY_MODEL_11bc438b3bc54b5ebf2f48c7a24ba1cd",
            "value": "\n<b>Pro Tip:</b> If you don't already have one, you can create a dedicated\n'notebooks' token with 'write' access, that you can then easily reuse for all\nnotebooks. </center>"
          }
        },
        "cb09c153b2114efc9b28393435f73067": {
          "model_module": "@jupyter-widgets/base",
          "model_name": "LayoutModel",
          "model_module_version": "1.2.0",
          "state": {
            "_model_module": "@jupyter-widgets/base",
            "_model_module_version": "1.2.0",
            "_model_name": "LayoutModel",
            "_view_count": null,
            "_view_module": "@jupyter-widgets/base",
            "_view_module_version": "1.2.0",
            "_view_name": "LayoutView",
            "align_content": null,
            "align_items": "center",
            "align_self": null,
            "border": null,
            "bottom": null,
            "display": "flex",
            "flex": null,
            "flex_flow": "column",
            "grid_area": null,
            "grid_auto_columns": null,
            "grid_auto_flow": null,
            "grid_auto_rows": null,
            "grid_column": null,
            "grid_gap": null,
            "grid_row": null,
            "grid_template_areas": null,
            "grid_template_columns": null,
            "grid_template_rows": null,
            "height": null,
            "justify_content": null,
            "justify_items": null,
            "left": null,
            "margin": null,
            "max_height": null,
            "max_width": null,
            "min_height": null,
            "min_width": null,
            "object_fit": null,
            "object_position": null,
            "order": null,
            "overflow": null,
            "overflow_x": null,
            "overflow_y": null,
            "padding": null,
            "right": null,
            "top": null,
            "visibility": null,
            "width": "50%"
          }
        },
        "e1e98624b24247b389f21095187ed85a": {
          "model_module": "@jupyter-widgets/base",
          "model_name": "LayoutModel",
          "model_module_version": "1.2.0",
          "state": {
            "_model_module": "@jupyter-widgets/base",
            "_model_module_version": "1.2.0",
            "_model_name": "LayoutModel",
            "_view_count": null,
            "_view_module": "@jupyter-widgets/base",
            "_view_module_version": "1.2.0",
            "_view_name": "LayoutView",
            "align_content": null,
            "align_items": null,
            "align_self": null,
            "border": null,
            "bottom": null,
            "display": null,
            "flex": null,
            "flex_flow": null,
            "grid_area": null,
            "grid_auto_columns": null,
            "grid_auto_flow": null,
            "grid_auto_rows": null,
            "grid_column": null,
            "grid_gap": null,
            "grid_row": null,
            "grid_template_areas": null,
            "grid_template_columns": null,
            "grid_template_rows": null,
            "height": null,
            "justify_content": null,
            "justify_items": null,
            "left": null,
            "margin": null,
            "max_height": null,
            "max_width": null,
            "min_height": null,
            "min_width": null,
            "object_fit": null,
            "object_position": null,
            "order": null,
            "overflow": null,
            "overflow_x": null,
            "overflow_y": null,
            "padding": null,
            "right": null,
            "top": null,
            "visibility": null,
            "width": null
          }
        },
        "6fec9a17db7b4a2482bf550ad3fbeee3": {
          "model_module": "@jupyter-widgets/controls",
          "model_name": "DescriptionStyleModel",
          "model_module_version": "1.5.0",
          "state": {
            "_model_module": "@jupyter-widgets/controls",
            "_model_module_version": "1.5.0",
            "_model_name": "DescriptionStyleModel",
            "_view_count": null,
            "_view_module": "@jupyter-widgets/base",
            "_view_module_version": "1.2.0",
            "_view_name": "StyleView",
            "description_width": ""
          }
        },
        "8b57ee79b3c14c37bbdebff8f9297c8d": {
          "model_module": "@jupyter-widgets/base",
          "model_name": "LayoutModel",
          "model_module_version": "1.2.0",
          "state": {
            "_model_module": "@jupyter-widgets/base",
            "_model_module_version": "1.2.0",
            "_model_name": "LayoutModel",
            "_view_count": null,
            "_view_module": "@jupyter-widgets/base",
            "_view_module_version": "1.2.0",
            "_view_name": "LayoutView",
            "align_content": null,
            "align_items": null,
            "align_self": null,
            "border": null,
            "bottom": null,
            "display": null,
            "flex": null,
            "flex_flow": null,
            "grid_area": null,
            "grid_auto_columns": null,
            "grid_auto_flow": null,
            "grid_auto_rows": null,
            "grid_column": null,
            "grid_gap": null,
            "grid_row": null,
            "grid_template_areas": null,
            "grid_template_columns": null,
            "grid_template_rows": null,
            "height": null,
            "justify_content": null,
            "justify_items": null,
            "left": null,
            "margin": null,
            "max_height": null,
            "max_width": null,
            "min_height": null,
            "min_width": null,
            "object_fit": null,
            "object_position": null,
            "order": null,
            "overflow": null,
            "overflow_x": null,
            "overflow_y": null,
            "padding": null,
            "right": null,
            "top": null,
            "visibility": null,
            "width": null
          }
        },
        "69a6abbdbdf442b8bf7691609b822051": {
          "model_module": "@jupyter-widgets/controls",
          "model_name": "DescriptionStyleModel",
          "model_module_version": "1.5.0",
          "state": {
            "_model_module": "@jupyter-widgets/controls",
            "_model_module_version": "1.5.0",
            "_model_name": "DescriptionStyleModel",
            "_view_count": null,
            "_view_module": "@jupyter-widgets/base",
            "_view_module_version": "1.2.0",
            "_view_name": "StyleView",
            "description_width": ""
          }
        },
        "ba06fafc9abc42baa8366559cb26fc4c": {
          "model_module": "@jupyter-widgets/base",
          "model_name": "LayoutModel",
          "model_module_version": "1.2.0",
          "state": {
            "_model_module": "@jupyter-widgets/base",
            "_model_module_version": "1.2.0",
            "_model_name": "LayoutModel",
            "_view_count": null,
            "_view_module": "@jupyter-widgets/base",
            "_view_module_version": "1.2.0",
            "_view_name": "LayoutView",
            "align_content": null,
            "align_items": null,
            "align_self": null,
            "border": null,
            "bottom": null,
            "display": null,
            "flex": null,
            "flex_flow": null,
            "grid_area": null,
            "grid_auto_columns": null,
            "grid_auto_flow": null,
            "grid_auto_rows": null,
            "grid_column": null,
            "grid_gap": null,
            "grid_row": null,
            "grid_template_areas": null,
            "grid_template_columns": null,
            "grid_template_rows": null,
            "height": null,
            "justify_content": null,
            "justify_items": null,
            "left": null,
            "margin": null,
            "max_height": null,
            "max_width": null,
            "min_height": null,
            "min_width": null,
            "object_fit": null,
            "object_position": null,
            "order": null,
            "overflow": null,
            "overflow_x": null,
            "overflow_y": null,
            "padding": null,
            "right": null,
            "top": null,
            "visibility": null,
            "width": null
          }
        },
        "2eeaba6ebe374c26bd8f5f6189a45630": {
          "model_module": "@jupyter-widgets/controls",
          "model_name": "DescriptionStyleModel",
          "model_module_version": "1.5.0",
          "state": {
            "_model_module": "@jupyter-widgets/controls",
            "_model_module_version": "1.5.0",
            "_model_name": "DescriptionStyleModel",
            "_view_count": null,
            "_view_module": "@jupyter-widgets/base",
            "_view_module_version": "1.2.0",
            "_view_name": "StyleView",
            "description_width": ""
          }
        },
        "ca6605f635974a378384d07d18e86403": {
          "model_module": "@jupyter-widgets/base",
          "model_name": "LayoutModel",
          "model_module_version": "1.2.0",
          "state": {
            "_model_module": "@jupyter-widgets/base",
            "_model_module_version": "1.2.0",
            "_model_name": "LayoutModel",
            "_view_count": null,
            "_view_module": "@jupyter-widgets/base",
            "_view_module_version": "1.2.0",
            "_view_name": "LayoutView",
            "align_content": null,
            "align_items": null,
            "align_self": null,
            "border": null,
            "bottom": null,
            "display": null,
            "flex": null,
            "flex_flow": null,
            "grid_area": null,
            "grid_auto_columns": null,
            "grid_auto_flow": null,
            "grid_auto_rows": null,
            "grid_column": null,
            "grid_gap": null,
            "grid_row": null,
            "grid_template_areas": null,
            "grid_template_columns": null,
            "grid_template_rows": null,
            "height": null,
            "justify_content": null,
            "justify_items": null,
            "left": null,
            "margin": null,
            "max_height": null,
            "max_width": null,
            "min_height": null,
            "min_width": null,
            "object_fit": null,
            "object_position": null,
            "order": null,
            "overflow": null,
            "overflow_x": null,
            "overflow_y": null,
            "padding": null,
            "right": null,
            "top": null,
            "visibility": null,
            "width": null
          }
        },
        "3ab115a93e664c0dba42215795a1b691": {
          "model_module": "@jupyter-widgets/controls",
          "model_name": "ButtonStyleModel",
          "model_module_version": "1.5.0",
          "state": {
            "_model_module": "@jupyter-widgets/controls",
            "_model_module_version": "1.5.0",
            "_model_name": "ButtonStyleModel",
            "_view_count": null,
            "_view_module": "@jupyter-widgets/base",
            "_view_module_version": "1.2.0",
            "_view_name": "StyleView",
            "button_color": null,
            "font_weight": ""
          }
        },
        "f32ac535d9e7497bb263b753e96625d3": {
          "model_module": "@jupyter-widgets/base",
          "model_name": "LayoutModel",
          "model_module_version": "1.2.0",
          "state": {
            "_model_module": "@jupyter-widgets/base",
            "_model_module_version": "1.2.0",
            "_model_name": "LayoutModel",
            "_view_count": null,
            "_view_module": "@jupyter-widgets/base",
            "_view_module_version": "1.2.0",
            "_view_name": "LayoutView",
            "align_content": null,
            "align_items": null,
            "align_self": null,
            "border": null,
            "bottom": null,
            "display": null,
            "flex": null,
            "flex_flow": null,
            "grid_area": null,
            "grid_auto_columns": null,
            "grid_auto_flow": null,
            "grid_auto_rows": null,
            "grid_column": null,
            "grid_gap": null,
            "grid_row": null,
            "grid_template_areas": null,
            "grid_template_columns": null,
            "grid_template_rows": null,
            "height": null,
            "justify_content": null,
            "justify_items": null,
            "left": null,
            "margin": null,
            "max_height": null,
            "max_width": null,
            "min_height": null,
            "min_width": null,
            "object_fit": null,
            "object_position": null,
            "order": null,
            "overflow": null,
            "overflow_x": null,
            "overflow_y": null,
            "padding": null,
            "right": null,
            "top": null,
            "visibility": null,
            "width": null
          }
        },
        "11bc438b3bc54b5ebf2f48c7a24ba1cd": {
          "model_module": "@jupyter-widgets/controls",
          "model_name": "DescriptionStyleModel",
          "model_module_version": "1.5.0",
          "state": {
            "_model_module": "@jupyter-widgets/controls",
            "_model_module_version": "1.5.0",
            "_model_name": "DescriptionStyleModel",
            "_view_count": null,
            "_view_module": "@jupyter-widgets/base",
            "_view_module_version": "1.2.0",
            "_view_name": "StyleView",
            "description_width": ""
          }
        },
        "3a429e938cbc42118c1c6ad1b80245b6": {
          "model_module": "@jupyter-widgets/controls",
          "model_name": "LabelModel",
          "model_module_version": "1.5.0",
          "state": {
            "_dom_classes": [],
            "_model_module": "@jupyter-widgets/controls",
            "_model_module_version": "1.5.0",
            "_model_name": "LabelModel",
            "_view_count": null,
            "_view_module": "@jupyter-widgets/controls",
            "_view_module_version": "1.5.0",
            "_view_name": "LabelView",
            "description": "",
            "description_tooltip": null,
            "layout": "IPY_MODEL_da7e32e00ed4416a82e34ae685d6c1a7",
            "placeholder": "​",
            "style": "IPY_MODEL_7a06b5d7847d4ecc950d6b1c92925746",
            "value": "Connecting..."
          }
        },
        "da7e32e00ed4416a82e34ae685d6c1a7": {
          "model_module": "@jupyter-widgets/base",
          "model_name": "LayoutModel",
          "model_module_version": "1.2.0",
          "state": {
            "_model_module": "@jupyter-widgets/base",
            "_model_module_version": "1.2.0",
            "_model_name": "LayoutModel",
            "_view_count": null,
            "_view_module": "@jupyter-widgets/base",
            "_view_module_version": "1.2.0",
            "_view_name": "LayoutView",
            "align_content": null,
            "align_items": null,
            "align_self": null,
            "border": null,
            "bottom": null,
            "display": null,
            "flex": null,
            "flex_flow": null,
            "grid_area": null,
            "grid_auto_columns": null,
            "grid_auto_flow": null,
            "grid_auto_rows": null,
            "grid_column": null,
            "grid_gap": null,
            "grid_row": null,
            "grid_template_areas": null,
            "grid_template_columns": null,
            "grid_template_rows": null,
            "height": null,
            "justify_content": null,
            "justify_items": null,
            "left": null,
            "margin": null,
            "max_height": null,
            "max_width": null,
            "min_height": null,
            "min_width": null,
            "object_fit": null,
            "object_position": null,
            "order": null,
            "overflow": null,
            "overflow_x": null,
            "overflow_y": null,
            "padding": null,
            "right": null,
            "top": null,
            "visibility": null,
            "width": null
          }
        },
        "7a06b5d7847d4ecc950d6b1c92925746": {
          "model_module": "@jupyter-widgets/controls",
          "model_name": "DescriptionStyleModel",
          "model_module_version": "1.5.0",
          "state": {
            "_model_module": "@jupyter-widgets/controls",
            "_model_module_version": "1.5.0",
            "_model_name": "DescriptionStyleModel",
            "_view_count": null,
            "_view_module": "@jupyter-widgets/base",
            "_view_module_version": "1.2.0",
            "_view_name": "StyleView",
            "description_width": ""
          }
        },
        "314246ec573040ef961abf752687f2d7": {
          "model_module": "@jupyter-widgets/controls",
          "model_name": "LabelModel",
          "model_module_version": "1.5.0",
          "state": {
            "_dom_classes": [],
            "_model_module": "@jupyter-widgets/controls",
            "_model_module_version": "1.5.0",
            "_model_name": "LabelModel",
            "_view_count": null,
            "_view_module": "@jupyter-widgets/controls",
            "_view_module_version": "1.5.0",
            "_view_name": "LabelView",
            "description": "",
            "description_tooltip": null,
            "layout": "IPY_MODEL_72022a088a574a9caf172d72a2c73c90",
            "placeholder": "​",
            "style": "IPY_MODEL_d1facb935c39427485eff56415a4b6f4",
            "value": "Token is valid (permission: fineGrained)."
          }
        },
        "ea035a8e74744b3998ca5f3545826b33": {
          "model_module": "@jupyter-widgets/controls",
          "model_name": "LabelModel",
          "model_module_version": "1.5.0",
          "state": {
            "_dom_classes": [],
            "_model_module": "@jupyter-widgets/controls",
            "_model_module_version": "1.5.0",
            "_model_name": "LabelModel",
            "_view_count": null,
            "_view_module": "@jupyter-widgets/controls",
            "_view_module_version": "1.5.0",
            "_view_name": "LabelView",
            "description": "",
            "description_tooltip": null,
            "layout": "IPY_MODEL_fa416eff246246ba8e6273e3669c243b",
            "placeholder": "​",
            "style": "IPY_MODEL_527ed4b9e39f4fd99115d23e40b29aa8",
            "value": "Your token has been saved in your configured git credential helpers (store)."
          }
        },
        "733b14d6262c44d4ba7a0502c3966f74": {
          "model_module": "@jupyter-widgets/controls",
          "model_name": "LabelModel",
          "model_module_version": "1.5.0",
          "state": {
            "_dom_classes": [],
            "_model_module": "@jupyter-widgets/controls",
            "_model_module_version": "1.5.0",
            "_model_name": "LabelModel",
            "_view_count": null,
            "_view_module": "@jupyter-widgets/controls",
            "_view_module_version": "1.5.0",
            "_view_name": "LabelView",
            "description": "",
            "description_tooltip": null,
            "layout": "IPY_MODEL_cfe564fd83b04427bdaeaa2734f9c283",
            "placeholder": "​",
            "style": "IPY_MODEL_0023c4f74a044857a55867e1444c447c",
            "value": "Your token has been saved to /root/.cache/huggingface/token"
          }
        },
        "72992007d08d429c937bf11d67971075": {
          "model_module": "@jupyter-widgets/controls",
          "model_name": "LabelModel",
          "model_module_version": "1.5.0",
          "state": {
            "_dom_classes": [],
            "_model_module": "@jupyter-widgets/controls",
            "_model_module_version": "1.5.0",
            "_model_name": "LabelModel",
            "_view_count": null,
            "_view_module": "@jupyter-widgets/controls",
            "_view_module_version": "1.5.0",
            "_view_name": "LabelView",
            "description": "",
            "description_tooltip": null,
            "layout": "IPY_MODEL_caf3d2d0a1f349ed8a252b0cc462b025",
            "placeholder": "​",
            "style": "IPY_MODEL_e74318d58c98487cb2e8a79a4f18d19c",
            "value": "Login successful"
          }
        },
        "72022a088a574a9caf172d72a2c73c90": {
          "model_module": "@jupyter-widgets/base",
          "model_name": "LayoutModel",
          "model_module_version": "1.2.0",
          "state": {
            "_model_module": "@jupyter-widgets/base",
            "_model_module_version": "1.2.0",
            "_model_name": "LayoutModel",
            "_view_count": null,
            "_view_module": "@jupyter-widgets/base",
            "_view_module_version": "1.2.0",
            "_view_name": "LayoutView",
            "align_content": null,
            "align_items": null,
            "align_self": null,
            "border": null,
            "bottom": null,
            "display": null,
            "flex": null,
            "flex_flow": null,
            "grid_area": null,
            "grid_auto_columns": null,
            "grid_auto_flow": null,
            "grid_auto_rows": null,
            "grid_column": null,
            "grid_gap": null,
            "grid_row": null,
            "grid_template_areas": null,
            "grid_template_columns": null,
            "grid_template_rows": null,
            "height": null,
            "justify_content": null,
            "justify_items": null,
            "left": null,
            "margin": null,
            "max_height": null,
            "max_width": null,
            "min_height": null,
            "min_width": null,
            "object_fit": null,
            "object_position": null,
            "order": null,
            "overflow": null,
            "overflow_x": null,
            "overflow_y": null,
            "padding": null,
            "right": null,
            "top": null,
            "visibility": null,
            "width": null
          }
        },
        "d1facb935c39427485eff56415a4b6f4": {
          "model_module": "@jupyter-widgets/controls",
          "model_name": "DescriptionStyleModel",
          "model_module_version": "1.5.0",
          "state": {
            "_model_module": "@jupyter-widgets/controls",
            "_model_module_version": "1.5.0",
            "_model_name": "DescriptionStyleModel",
            "_view_count": null,
            "_view_module": "@jupyter-widgets/base",
            "_view_module_version": "1.2.0",
            "_view_name": "StyleView",
            "description_width": ""
          }
        },
        "fa416eff246246ba8e6273e3669c243b": {
          "model_module": "@jupyter-widgets/base",
          "model_name": "LayoutModel",
          "model_module_version": "1.2.0",
          "state": {
            "_model_module": "@jupyter-widgets/base",
            "_model_module_version": "1.2.0",
            "_model_name": "LayoutModel",
            "_view_count": null,
            "_view_module": "@jupyter-widgets/base",
            "_view_module_version": "1.2.0",
            "_view_name": "LayoutView",
            "align_content": null,
            "align_items": null,
            "align_self": null,
            "border": null,
            "bottom": null,
            "display": null,
            "flex": null,
            "flex_flow": null,
            "grid_area": null,
            "grid_auto_columns": null,
            "grid_auto_flow": null,
            "grid_auto_rows": null,
            "grid_column": null,
            "grid_gap": null,
            "grid_row": null,
            "grid_template_areas": null,
            "grid_template_columns": null,
            "grid_template_rows": null,
            "height": null,
            "justify_content": null,
            "justify_items": null,
            "left": null,
            "margin": null,
            "max_height": null,
            "max_width": null,
            "min_height": null,
            "min_width": null,
            "object_fit": null,
            "object_position": null,
            "order": null,
            "overflow": null,
            "overflow_x": null,
            "overflow_y": null,
            "padding": null,
            "right": null,
            "top": null,
            "visibility": null,
            "width": null
          }
        },
        "527ed4b9e39f4fd99115d23e40b29aa8": {
          "model_module": "@jupyter-widgets/controls",
          "model_name": "DescriptionStyleModel",
          "model_module_version": "1.5.0",
          "state": {
            "_model_module": "@jupyter-widgets/controls",
            "_model_module_version": "1.5.0",
            "_model_name": "DescriptionStyleModel",
            "_view_count": null,
            "_view_module": "@jupyter-widgets/base",
            "_view_module_version": "1.2.0",
            "_view_name": "StyleView",
            "description_width": ""
          }
        },
        "cfe564fd83b04427bdaeaa2734f9c283": {
          "model_module": "@jupyter-widgets/base",
          "model_name": "LayoutModel",
          "model_module_version": "1.2.0",
          "state": {
            "_model_module": "@jupyter-widgets/base",
            "_model_module_version": "1.2.0",
            "_model_name": "LayoutModel",
            "_view_count": null,
            "_view_module": "@jupyter-widgets/base",
            "_view_module_version": "1.2.0",
            "_view_name": "LayoutView",
            "align_content": null,
            "align_items": null,
            "align_self": null,
            "border": null,
            "bottom": null,
            "display": null,
            "flex": null,
            "flex_flow": null,
            "grid_area": null,
            "grid_auto_columns": null,
            "grid_auto_flow": null,
            "grid_auto_rows": null,
            "grid_column": null,
            "grid_gap": null,
            "grid_row": null,
            "grid_template_areas": null,
            "grid_template_columns": null,
            "grid_template_rows": null,
            "height": null,
            "justify_content": null,
            "justify_items": null,
            "left": null,
            "margin": null,
            "max_height": null,
            "max_width": null,
            "min_height": null,
            "min_width": null,
            "object_fit": null,
            "object_position": null,
            "order": null,
            "overflow": null,
            "overflow_x": null,
            "overflow_y": null,
            "padding": null,
            "right": null,
            "top": null,
            "visibility": null,
            "width": null
          }
        },
        "0023c4f74a044857a55867e1444c447c": {
          "model_module": "@jupyter-widgets/controls",
          "model_name": "DescriptionStyleModel",
          "model_module_version": "1.5.0",
          "state": {
            "_model_module": "@jupyter-widgets/controls",
            "_model_module_version": "1.5.0",
            "_model_name": "DescriptionStyleModel",
            "_view_count": null,
            "_view_module": "@jupyter-widgets/base",
            "_view_module_version": "1.2.0",
            "_view_name": "StyleView",
            "description_width": ""
          }
        },
        "caf3d2d0a1f349ed8a252b0cc462b025": {
          "model_module": "@jupyter-widgets/base",
          "model_name": "LayoutModel",
          "model_module_version": "1.2.0",
          "state": {
            "_model_module": "@jupyter-widgets/base",
            "_model_module_version": "1.2.0",
            "_model_name": "LayoutModel",
            "_view_count": null,
            "_view_module": "@jupyter-widgets/base",
            "_view_module_version": "1.2.0",
            "_view_name": "LayoutView",
            "align_content": null,
            "align_items": null,
            "align_self": null,
            "border": null,
            "bottom": null,
            "display": null,
            "flex": null,
            "flex_flow": null,
            "grid_area": null,
            "grid_auto_columns": null,
            "grid_auto_flow": null,
            "grid_auto_rows": null,
            "grid_column": null,
            "grid_gap": null,
            "grid_row": null,
            "grid_template_areas": null,
            "grid_template_columns": null,
            "grid_template_rows": null,
            "height": null,
            "justify_content": null,
            "justify_items": null,
            "left": null,
            "margin": null,
            "max_height": null,
            "max_width": null,
            "min_height": null,
            "min_width": null,
            "object_fit": null,
            "object_position": null,
            "order": null,
            "overflow": null,
            "overflow_x": null,
            "overflow_y": null,
            "padding": null,
            "right": null,
            "top": null,
            "visibility": null,
            "width": null
          }
        },
        "e74318d58c98487cb2e8a79a4f18d19c": {
          "model_module": "@jupyter-widgets/controls",
          "model_name": "DescriptionStyleModel",
          "model_module_version": "1.5.0",
          "state": {
            "_model_module": "@jupyter-widgets/controls",
            "_model_module_version": "1.5.0",
            "_model_name": "DescriptionStyleModel",
            "_view_count": null,
            "_view_module": "@jupyter-widgets/base",
            "_view_module_version": "1.2.0",
            "_view_name": "StyleView",
            "description_width": ""
          }
        },
        "512fbc1936f94c438f74c1630c2592ad": {
          "model_module": "@jupyter-widgets/controls",
          "model_name": "HBoxModel",
          "model_module_version": "1.5.0",
          "state": {
            "_dom_classes": [],
            "_model_module": "@jupyter-widgets/controls",
            "_model_module_version": "1.5.0",
            "_model_name": "HBoxModel",
            "_view_count": null,
            "_view_module": "@jupyter-widgets/controls",
            "_view_module_version": "1.5.0",
            "_view_name": "HBoxView",
            "box_style": "",
            "children": [
              "IPY_MODEL_c2c973bef5014fcabf24acc7a2df24a8",
              "IPY_MODEL_a13a2326289349e0992ab5f7a472de24",
              "IPY_MODEL_ce6c3da88a2646208e8c4a97d8b6abff"
            ],
            "layout": "IPY_MODEL_f7f6dbb7bf4a4523a14b287bc0e610fc"
          }
        },
        "c2c973bef5014fcabf24acc7a2df24a8": {
          "model_module": "@jupyter-widgets/controls",
          "model_name": "HTMLModel",
          "model_module_version": "1.5.0",
          "state": {
            "_dom_classes": [],
            "_model_module": "@jupyter-widgets/controls",
            "_model_module_version": "1.5.0",
            "_model_name": "HTMLModel",
            "_view_count": null,
            "_view_module": "@jupyter-widgets/controls",
            "_view_module_version": "1.5.0",
            "_view_name": "HTMLView",
            "description": "",
            "description_tooltip": null,
            "layout": "IPY_MODEL_9ad0e56a75fc434ab0c566f9a7744e03",
            "placeholder": "​",
            "style": "IPY_MODEL_5b7a0c01c9a446f08f1b24cd11c7c7f5",
            "value": "Loading checkpoint shards: 100%"
          }
        },
        "a13a2326289349e0992ab5f7a472de24": {
          "model_module": "@jupyter-widgets/controls",
          "model_name": "FloatProgressModel",
          "model_module_version": "1.5.0",
          "state": {
            "_dom_classes": [],
            "_model_module": "@jupyter-widgets/controls",
            "_model_module_version": "1.5.0",
            "_model_name": "FloatProgressModel",
            "_view_count": null,
            "_view_module": "@jupyter-widgets/controls",
            "_view_module_version": "1.5.0",
            "_view_name": "ProgressView",
            "bar_style": "success",
            "description": "",
            "description_tooltip": null,
            "layout": "IPY_MODEL_d7b3e9cd35ed4d6ab1841e46f2d0be41",
            "max": 4,
            "min": 0,
            "orientation": "horizontal",
            "style": "IPY_MODEL_9c045dc46f234462a81e3f3e63e1c090",
            "value": 4
          }
        },
        "ce6c3da88a2646208e8c4a97d8b6abff": {
          "model_module": "@jupyter-widgets/controls",
          "model_name": "HTMLModel",
          "model_module_version": "1.5.0",
          "state": {
            "_dom_classes": [],
            "_model_module": "@jupyter-widgets/controls",
            "_model_module_version": "1.5.0",
            "_model_name": "HTMLModel",
            "_view_count": null,
            "_view_module": "@jupyter-widgets/controls",
            "_view_module_version": "1.5.0",
            "_view_name": "HTMLView",
            "description": "",
            "description_tooltip": null,
            "layout": "IPY_MODEL_8a525f8520584ff8a98f1e870e02b0a9",
            "placeholder": "​",
            "style": "IPY_MODEL_a7e19cc4c8f74990ac3ff0ba788b0613",
            "value": " 4/4 [01:20&lt;00:00, 17.21s/it]"
          }
        },
        "f7f6dbb7bf4a4523a14b287bc0e610fc": {
          "model_module": "@jupyter-widgets/base",
          "model_name": "LayoutModel",
          "model_module_version": "1.2.0",
          "state": {
            "_model_module": "@jupyter-widgets/base",
            "_model_module_version": "1.2.0",
            "_model_name": "LayoutModel",
            "_view_count": null,
            "_view_module": "@jupyter-widgets/base",
            "_view_module_version": "1.2.0",
            "_view_name": "LayoutView",
            "align_content": null,
            "align_items": null,
            "align_self": null,
            "border": null,
            "bottom": null,
            "display": null,
            "flex": null,
            "flex_flow": null,
            "grid_area": null,
            "grid_auto_columns": null,
            "grid_auto_flow": null,
            "grid_auto_rows": null,
            "grid_column": null,
            "grid_gap": null,
            "grid_row": null,
            "grid_template_areas": null,
            "grid_template_columns": null,
            "grid_template_rows": null,
            "height": null,
            "justify_content": null,
            "justify_items": null,
            "left": null,
            "margin": null,
            "max_height": null,
            "max_width": null,
            "min_height": null,
            "min_width": null,
            "object_fit": null,
            "object_position": null,
            "order": null,
            "overflow": null,
            "overflow_x": null,
            "overflow_y": null,
            "padding": null,
            "right": null,
            "top": null,
            "visibility": null,
            "width": null
          }
        },
        "9ad0e56a75fc434ab0c566f9a7744e03": {
          "model_module": "@jupyter-widgets/base",
          "model_name": "LayoutModel",
          "model_module_version": "1.2.0",
          "state": {
            "_model_module": "@jupyter-widgets/base",
            "_model_module_version": "1.2.0",
            "_model_name": "LayoutModel",
            "_view_count": null,
            "_view_module": "@jupyter-widgets/base",
            "_view_module_version": "1.2.0",
            "_view_name": "LayoutView",
            "align_content": null,
            "align_items": null,
            "align_self": null,
            "border": null,
            "bottom": null,
            "display": null,
            "flex": null,
            "flex_flow": null,
            "grid_area": null,
            "grid_auto_columns": null,
            "grid_auto_flow": null,
            "grid_auto_rows": null,
            "grid_column": null,
            "grid_gap": null,
            "grid_row": null,
            "grid_template_areas": null,
            "grid_template_columns": null,
            "grid_template_rows": null,
            "height": null,
            "justify_content": null,
            "justify_items": null,
            "left": null,
            "margin": null,
            "max_height": null,
            "max_width": null,
            "min_height": null,
            "min_width": null,
            "object_fit": null,
            "object_position": null,
            "order": null,
            "overflow": null,
            "overflow_x": null,
            "overflow_y": null,
            "padding": null,
            "right": null,
            "top": null,
            "visibility": null,
            "width": null
          }
        },
        "5b7a0c01c9a446f08f1b24cd11c7c7f5": {
          "model_module": "@jupyter-widgets/controls",
          "model_name": "DescriptionStyleModel",
          "model_module_version": "1.5.0",
          "state": {
            "_model_module": "@jupyter-widgets/controls",
            "_model_module_version": "1.5.0",
            "_model_name": "DescriptionStyleModel",
            "_view_count": null,
            "_view_module": "@jupyter-widgets/base",
            "_view_module_version": "1.2.0",
            "_view_name": "StyleView",
            "description_width": ""
          }
        },
        "d7b3e9cd35ed4d6ab1841e46f2d0be41": {
          "model_module": "@jupyter-widgets/base",
          "model_name": "LayoutModel",
          "model_module_version": "1.2.0",
          "state": {
            "_model_module": "@jupyter-widgets/base",
            "_model_module_version": "1.2.0",
            "_model_name": "LayoutModel",
            "_view_count": null,
            "_view_module": "@jupyter-widgets/base",
            "_view_module_version": "1.2.0",
            "_view_name": "LayoutView",
            "align_content": null,
            "align_items": null,
            "align_self": null,
            "border": null,
            "bottom": null,
            "display": null,
            "flex": null,
            "flex_flow": null,
            "grid_area": null,
            "grid_auto_columns": null,
            "grid_auto_flow": null,
            "grid_auto_rows": null,
            "grid_column": null,
            "grid_gap": null,
            "grid_row": null,
            "grid_template_areas": null,
            "grid_template_columns": null,
            "grid_template_rows": null,
            "height": null,
            "justify_content": null,
            "justify_items": null,
            "left": null,
            "margin": null,
            "max_height": null,
            "max_width": null,
            "min_height": null,
            "min_width": null,
            "object_fit": null,
            "object_position": null,
            "order": null,
            "overflow": null,
            "overflow_x": null,
            "overflow_y": null,
            "padding": null,
            "right": null,
            "top": null,
            "visibility": null,
            "width": null
          }
        },
        "9c045dc46f234462a81e3f3e63e1c090": {
          "model_module": "@jupyter-widgets/controls",
          "model_name": "ProgressStyleModel",
          "model_module_version": "1.5.0",
          "state": {
            "_model_module": "@jupyter-widgets/controls",
            "_model_module_version": "1.5.0",
            "_model_name": "ProgressStyleModel",
            "_view_count": null,
            "_view_module": "@jupyter-widgets/base",
            "_view_module_version": "1.2.0",
            "_view_name": "StyleView",
            "bar_color": null,
            "description_width": ""
          }
        },
        "8a525f8520584ff8a98f1e870e02b0a9": {
          "model_module": "@jupyter-widgets/base",
          "model_name": "LayoutModel",
          "model_module_version": "1.2.0",
          "state": {
            "_model_module": "@jupyter-widgets/base",
            "_model_module_version": "1.2.0",
            "_model_name": "LayoutModel",
            "_view_count": null,
            "_view_module": "@jupyter-widgets/base",
            "_view_module_version": "1.2.0",
            "_view_name": "LayoutView",
            "align_content": null,
            "align_items": null,
            "align_self": null,
            "border": null,
            "bottom": null,
            "display": null,
            "flex": null,
            "flex_flow": null,
            "grid_area": null,
            "grid_auto_columns": null,
            "grid_auto_flow": null,
            "grid_auto_rows": null,
            "grid_column": null,
            "grid_gap": null,
            "grid_row": null,
            "grid_template_areas": null,
            "grid_template_columns": null,
            "grid_template_rows": null,
            "height": null,
            "justify_content": null,
            "justify_items": null,
            "left": null,
            "margin": null,
            "max_height": null,
            "max_width": null,
            "min_height": null,
            "min_width": null,
            "object_fit": null,
            "object_position": null,
            "order": null,
            "overflow": null,
            "overflow_x": null,
            "overflow_y": null,
            "padding": null,
            "right": null,
            "top": null,
            "visibility": null,
            "width": null
          }
        },
        "a7e19cc4c8f74990ac3ff0ba788b0613": {
          "model_module": "@jupyter-widgets/controls",
          "model_name": "DescriptionStyleModel",
          "model_module_version": "1.5.0",
          "state": {
            "_model_module": "@jupyter-widgets/controls",
            "_model_module_version": "1.5.0",
            "_model_name": "DescriptionStyleModel",
            "_view_count": null,
            "_view_module": "@jupyter-widgets/base",
            "_view_module_version": "1.2.0",
            "_view_name": "StyleView",
            "description_width": ""
          }
        }
      }
    }
  },
  "nbformat": 4,
  "nbformat_minor": 0
}
